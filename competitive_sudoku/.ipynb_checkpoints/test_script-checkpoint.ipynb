{
 "cells": [
  {
   "cell_type": "code",
   "execution_count": 1,
   "id": "2194566d",
   "metadata": {},
   "outputs": [],
   "source": [
    "import sys\n",
    "import io\n",
    "import importlib\n",
    "\n",
    "from simulate_game import simulate_game\n",
    "from competitive_sudoku.sudoku import GameState, SudokuBoard, load_sudoku"
   ]
  },
  {
   "cell_type": "code",
   "execution_count": 2,
   "id": "67303f8b",
   "metadata": {},
   "outputs": [],
   "source": [
    "#returns 0 if it was a draw, 1 if player 1 won, 2 if player 2 won\n",
    "def run_simulation(first_player: str, second_player: str, time: float, board_name: str):\n",
    "    module1 = importlib.import_module(first_player + '.sudokuai')\n",
    "    module2 = importlib.import_module(second_player + '.sudokuai')\n",
    "    player1 = module1.SudokuAI()\n",
    "    player2 = module2.SudokuAI()\n",
    "    player1.player_number = 1\n",
    "    player2.player_number = 2\n",
    "    \n",
    "    # We do not check for specific ai, just give it to all of them\n",
    "    player1.solve_sudoku_path = 'bin\\\\solve_sudoku.exe'\n",
    "    player2.solve_sudoku_path = 'bin\\\\solve_sudoku.exe'\n",
    "    \n",
    "    board = load_sudoku(board_name)\n",
    "    \n",
    "    # Note for future, we do not clean up files\n",
    "    \n",
    "    old_stdout = sys.stdout\n",
    "    sys.stdout = buffer = io.StringIO()\n",
    "    \n",
    "    simulate_game(board, player1, player2, solve_sudoku_path='bin\\\\solve_sudoku.exe', calculation_time=time)\n",
    "    \n",
    "    sys.stdout = old_stdout\n",
    "    result = buffer.getvalue()\n",
    "    \n",
    "    winner = {\"he game ends in a draw.\": 0, \"Player 1 wins the game.\":1, \"Player 2 wins the game.\":2}[result[-24:-1]]\n",
    "    \n",
    "    return winner"
   ]
  },
  {
   "cell_type": "markdown",
   "id": "81050455",
   "metadata": {},
   "source": [
    "### Random player, random-3x3.txt, varying time:"
   ]
  },
  {
   "cell_type": "code",
   "execution_count": null,
   "id": "5d81dc9f",
   "metadata": {},
   "outputs": [],
   "source": [
    "#100% winrate\n",
    "result = []\n",
    "\n",
    "player1 = \"team41_A1\"\n",
    "player2 = \"random_player\"\n",
    "for time in [0.5,1,5]:\n",
    "    sub_result = []\n",
    "    for i in range(5):\n",
    "        sub_result.append(run_simulation(player1, player2, time, \"boards/random-3x3.txt\"))\n",
    "        sub_result.append(run_simulation(player2, player1, time, \"boards/random-3x3.txt\"))\n",
    "        print(time,i, sub_result[-2], sub_result[-1])\n",
    "    \n",
    "    result.append(sub_result)\n",
    "\n",
    "print(result)"
   ]
  },
  {
   "cell_type": "code",
   "execution_count": null,
   "id": "165fbb51",
   "metadata": {},
   "outputs": [],
   "source": [
    "1212121212 #100%\n",
    "1212121212 #100%\n",
    "1212121212 #100%"
   ]
  },
  {
   "cell_type": "markdown",
   "id": "eb785dc8",
   "metadata": {},
   "source": [
    "### Greedy player, random-3x3.txt, varying time:"
   ]
  },
  {
   "cell_type": "code",
   "execution_count": null,
   "id": "2f0f12af",
   "metadata": {},
   "outputs": [],
   "source": [
    "result2 = []\n",
    "\n",
    "player1 = \"team41_A1\"\n",
    "player2 = \"greedy_player\"\n",
    "for time in [0.5,1,5]:\n",
    "    sub_result = []\n",
    "    for i in range(5):\n",
    "        sub_result.append(run_simulation(player1, player2, time, \"boards/random-3x3.txt\"))\n",
    "        sub_result.append(run_simulation(player2, player1, time, \"boards/random-3x3.txt\"))\n",
    "        print(time,i, sub_result[-2], sub_result[-1])\n",
    "    \n",
    "    result2.append(sub_result)\n",
    "\n",
    "print(result2)"
   ]
  },
  {
   "cell_type": "code",
   "execution_count": null,
   "id": "080a5d0d",
   "metadata": {},
   "outputs": [],
   "source": [
    "2221121111 #50%\n",
    "2112212121 #20%"
   ]
  },
  {
   "cell_type": "markdown",
   "id": "698f646d",
   "metadata": {},
   "source": [
    "### Random player, empty-3x3.txt, varying time:"
   ]
  },
  {
   "cell_type": "code",
   "execution_count": null,
   "id": "7cb5cb1a",
   "metadata": {},
   "outputs": [],
   "source": [
    "result3 = []\n",
    "\n",
    "player1 = \"team41_A1\"\n",
    "player2 = \"random_player\"\n",
    "for time in [0.5,1,5]:\n",
    "    sub_result = []\n",
    "    for i in range(5):\n",
    "        print(time,i)\n",
    "        sub_result.append(run_simulation(player1, player2, time, \"boards/empty-3x3.txt\"))\n",
    "        sub_result.append(run_simulation(player2, player1, time, \"boards/empty-3x3.txt\"))\n",
    "        print(time,i, sub_result[-2], sub_result[-1])\n",
    "    \n",
    "    result3.append(sub_result)\n",
    "\n",
    "print(result3)"
   ]
  },
  {
   "cell_type": "markdown",
   "id": "fd1b849e",
   "metadata": {},
   "source": [
    "### Greedy player, empty-3x3.txt, varying time:"
   ]
  },
  {
   "cell_type": "code",
   "execution_count": null,
   "id": "015046a1",
   "metadata": {},
   "outputs": [],
   "source": [
    "result4 = []\n",
    "\n",
    "player1 = \"team41_A1\"\n",
    "player2 = \"random_player\"\n",
    "for time in [0.5,1,5]:\n",
    "    sub_result = []\n",
    "    for i in range(5):\n",
    "        print(time,i)\n",
    "        sub_result.append(run_simulation(player1, player2, time, \"boards/empty-3x3.txt\"))\n",
    "        sub_result.append(run_simulation(player2, player1, time, \"boards/empty-3x3.txt\"))\n",
    "        print(time,i, sub_result[-2], sub_result[-1])\n",
    "    \n",
    "    result4.append(sub_result)\n",
    "\n",
    "print(result4)"
   ]
  }
 ],
 "metadata": {
  "kernelspec": {
   "display_name": "Python 3",
   "language": "python",
   "name": "python3"
  },
  "language_info": {
   "codemirror_mode": {
    "name": "ipython",
    "version": 3
   },
   "file_extension": ".py",
   "mimetype": "text/x-python",
   "name": "python",
   "nbconvert_exporter": "python",
   "pygments_lexer": "ipython3",
   "version": "3.8.8"
  }
 },
 "nbformat": 4,
 "nbformat_minor": 5
}
