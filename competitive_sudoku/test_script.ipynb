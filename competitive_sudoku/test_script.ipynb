{
 "cells": [
  {
   "cell_type": "code",
   "execution_count": 9,
   "id": "2194566d",
   "metadata": {},
   "outputs": [],
   "source": [
    "import sys\n",
    "import io\n",
    "import importlib\n",
    "\n",
    "from simulate_game import simulate_game\n",
    "from competitive_sudoku.sudoku import GameState, SudokuBoard, load_sudoku"
   ]
  },
  {
   "cell_type": "code",
   "execution_count": 34,
   "id": "05f35ef8",
   "metadata": {},
   "outputs": [],
   "source": [
    "result = run_simulation(\"team41_A1\", \"greedy_player\", 0.5, \"boards/random-3x3.txt\")"
   ]
  },
  {
   "cell_type": "code",
   "execution_count": 35,
   "id": "27fdf284",
   "metadata": {},
   "outputs": [
    {
     "data": {
      "text/plain": [
       "1"
      ]
     },
     "execution_count": 35,
     "metadata": {},
     "output_type": "execute_result"
    }
   ],
   "source": [
    "result"
   ]
  },
  {
   "cell_type": "code",
   "execution_count": 33,
   "id": "67303f8b",
   "metadata": {},
   "outputs": [],
   "source": [
    "#returns 0 if it was a draw, 1 if player 1 won, 2 if player 2 won\n",
    "def run_simulation(first_player: str, second_player: str, time: float, board_name: str):\n",
    "    module1 = importlib.import_module(first_player + '.sudokuai')\n",
    "    module2 = importlib.import_module(second_player + '.sudokuai')\n",
    "    player1 = module1.SudokuAI()\n",
    "    player2 = module2.SudokuAI()\n",
    "    player1.player_number = 1\n",
    "    player2.player_number = 2\n",
    "    \n",
    "    # We do not check for specific ai, just give it to all of them\n",
    "    player1.solve_sudoku_path = 'bin\\\\solve_sudoku.exe'\n",
    "    player2.solve_sudoku_path = 'bin\\\\solve_sudoku.exe'\n",
    "    \n",
    "    board = load_sudoku(board_name)\n",
    "    \n",
    "    # Note for future, we do not clean up files\n",
    "    \n",
    "    old_stdout = sys.stdout\n",
    "    sys.stdout = buffer = io.StringIO()\n",
    "    \n",
    "    simulate_game(board, player1, player2, solve_sudoku_path='bin\\\\solve_sudoku.exe', calculation_time=time)\n",
    "    \n",
    "    sys.stdout = old_stdout\n",
    "    result = buffer.getvalue()\n",
    "    \n",
    "    winner = {\"he game ends in a draw.\": 0, \"Player 1 wins the game.\":1, \"Player 2 wins the game.\":2}[result[-24:-1]]\n",
    "    \n",
    "    return winner"
   ]
  },
  {
   "cell_type": "markdown",
   "id": "81050455",
   "metadata": {},
   "source": [
    "### Random player, random-3x3.txt, varying time:"
   ]
  },
  {
   "cell_type": "code",
   "execution_count": null,
   "id": "5d81dc9f",
   "metadata": {},
   "outputs": [],
   "source": [
    "%%capture\n",
    "\n",
    "for i in range(REPETITIONS):\n",
    "    %run simulate_game_test.py --first=team41_A1 --second=random_player --time=0.5 --board=boards/random-3x3.txt\n",
    "    %run simulate_game_test.py --first=random_player --second=team41_A1 --time=0.5 --board=boards/random-3x3.txt\n",
    "with open(r\"script_tests\\one.txt\", \"a\") as wow:\n",
    "    wow.write(\"\\n\")\n",
    "    \n",
    "for i in range(REPETITIONS):\n",
    "    %run simulate_game_test.py --first=team41_A1 --second=random_player --time=1.0 --board=boards/random-3x3.txt\n",
    "    %run simulate_game_test.py --first=random_player --second=team41_A1 --time=1.0 --board=boards/random-3x3.txt\n",
    "with open(r\"script_tests\\one.txt\", \"a\") as wow:\n",
    "    wow.write(\"\\n\")\n",
    "    \n",
    "for i in range(REPETITIONS):\n",
    "    %run simulate_game_test.py --first=team41_A1 --second=random_player --time=5.0 --board=boards/random-3x3.txt\n",
    "    %run simulate_game_test.py --first=random_player --second=team41_A1 --time=5.0 --board=boards/random-3x3.txt\n",
    "with open(r\"script_tests\\one.txt\", \"a\") as wow:\n",
    "    wow.write(\"\\n\")"
   ]
  },
  {
   "cell_type": "markdown",
   "id": "eb785dc8",
   "metadata": {},
   "source": [
    "### Greedy player, random-3x3.txt, varying time:"
   ]
  },
  {
   "cell_type": "code",
   "execution_count": null,
   "id": "2f0f12af",
   "metadata": {},
   "outputs": [],
   "source": [
    "%%capture\n",
    "\n",
    "for i in range(REPETITIONS):\n",
    "    %run simulate_game_test.py --first=team41_A1 --second=greedy_player --time=0.5 --board=boards/random-3x3.txt\n",
    "    %run simulate_game_test.py --first=greedy_player --second=team41_A1 --time=0.5 --board=boards/random-3x3.txt\n",
    "with open(r\"script_tests\\one.txt\", \"a\") as wow:\n",
    "    wow.write(\"\\n\")\n",
    "    \n",
    "for i in range(REPETITIONS):\n",
    "    %run simulate_game_test.py --first=team41_A1 --second=greedy_player --time=1.0 --board=boards/random-3x3.txt\n",
    "    %run simulate_game_test.py --first=greedy_player --second=team41_A1 --time=1.0 --board=boards/random-3x3.txt\n",
    "with open(r\"script_tests\\one.txt\", \"a\") as wow:\n",
    "    wow.write(\"\\n\")\n",
    "    \n",
    "for i in range(REPETITIONS):\n",
    "    %run simulate_game.py --first=team41_A1 --second=greedy_player --time=5.0 --board=boards/random-3x3.txt\n",
    "    %run simulate_game.py --first=greedy_player --second=team41_A1 --time=5.0 --board=boards/random-3x3.txt\n",
    "with open(r\"script_tests\\one.txt\", \"a\") as wow:\n",
    "    wow.write(\"\\n\")"
   ]
  },
  {
   "cell_type": "markdown",
   "id": "698f646d",
   "metadata": {},
   "source": [
    "### Random player, empty-3x3.txt, varying time:"
   ]
  },
  {
   "cell_type": "code",
   "execution_count": null,
   "id": "7cb5cb1a",
   "metadata": {},
   "outputs": [],
   "source": [
    "%%capture\n",
    "\n",
    "for i in range(REPETITIONS):\n",
    "    %run simulate_game.py --first=team41_A1 --second=random_player --time=0.5 --board=boards/empty-3x3.txt\n",
    "    %run simulate_game.py --first=random_player --second=team41_A1 --time=0.5 --board=boards/empty-3x3.txt\n",
    "with open(r\"C:\\Users\\user\\Documents\\GitHub\\Sudoku-Destroyer-69\\competitive_sudoku\\script_tests\\one.txt\", \"a\") as wow:\n",
    "    wow.write(\"\\n\")\n",
    "    \n",
    "for i in range(REPETITIONS):\n",
    "    %run simulate_game.py --first=team41_A1 --second=random_player --time=1.0 --board=boards/empty-3x3.txt\n",
    "    %run simulate_game.py --first=random_player --second=team41_A1 --time=1.0 --board=boards/empty-3x3.txt\n",
    "with open(r\"C:\\Users\\user\\Documents\\GitHub\\Sudoku-Destroyer-69\\competitive_sudoku\\script_tests\\one.txt\", \"a\") as wow:\n",
    "    wow.write(\"\\n\")\n",
    "    \n",
    "for i in range(REPETITIONS):\n",
    "    %run simulate_game.py --first=team41_A1 --second=random_player --time=5.0 --board=boards/empty-3x3.txt\n",
    "    %run simulate_game.py --first=random_player --second=team41_A1 --time=5.0 --board=boards/empty-3x3.txt\n",
    "with open(r\"C:\\Users\\user\\Documents\\GitHub\\Sudoku-Destroyer-69\\competitive_sudoku\\script_tests\\one.txt\", \"a\") as wow:\n",
    "    wow.write(\"\\n\")"
   ]
  },
  {
   "cell_type": "markdown",
   "id": "fd1b849e",
   "metadata": {},
   "source": [
    "### Greedy player, empty-3x3.txt, varying time:"
   ]
  },
  {
   "cell_type": "code",
   "execution_count": null,
   "id": "015046a1",
   "metadata": {},
   "outputs": [],
   "source": [
    "%%capture\n",
    "\n",
    "for i in range(REPETITIONS):\n",
    "    %run simulate_game.py --first=team41_A1 --second=greedy_player --time=0.5 --board=boards/empty-3x3.txt\n",
    "    %run simulate_game.py --first=greedy_player --second=team41_A1 --time=0.5 --board=boards/empty-3x3.txt\n",
    "with open(r\"C:\\Users\\user\\Documents\\GitHub\\Sudoku-Destroyer-69\\competitive_sudoku\\script_tests\\one.txt\", \"a\") as wow:\n",
    "    wow.write(\"\\n\")\n",
    "    \n",
    "for i in range(REPETITIONS):\n",
    "    %run simulate_game.py --first=team41_A1 --second=greedy_player --time=1.0 --board=boards/empty-3x3.txt\n",
    "    %run simulate_game.py --first=greedy_player --second=team41_A1 --time=1.0 --board=boards/empty-3x3.txt\n",
    "with open(r\"C:\\Users\\user\\Documents\\GitHub\\Sudoku-Destroyer-69\\competitive_sudoku\\script_tests\\one.txt\", \"a\") as wow:\n",
    "    wow.write(\"\\n\")\n",
    "    \n",
    "for i in range(REPETITIONS):\n",
    "    %run simulate_game.py --first=team41_A1 --second=greedy_player --time=5.0 --board=boards/empty-3x3.txt\n",
    "    %run simulate_game.py --first=greedy_player --second=team41_A1 --time=5.0 --board=boards/empty-3x3.txt\n",
    "with open(r\"C:\\Users\\user\\Documents\\GitHub\\Sudoku-Destroyer-69\\competitive_sudoku\\script_tests\\one.txt\", \"a\") as wow:\n",
    "    wow.write(\"\\n\")"
   ]
  }
 ],
 "metadata": {
  "kernelspec": {
   "display_name": "Python 3",
   "language": "python",
   "name": "python3"
  },
  "language_info": {
   "codemirror_mode": {
    "name": "ipython",
    "version": 3
   },
   "file_extension": ".py",
   "mimetype": "text/x-python",
   "name": "python",
   "nbconvert_exporter": "python",
   "pygments_lexer": "ipython3",
   "version": "3.8.8"
  }
 },
 "nbformat": 4,
 "nbformat_minor": 5
}
