{
 "cells": [
  {
   "cell_type": "code",
   "execution_count": 1,
   "id": "ba5034df",
   "metadata": {},
   "outputs": [],
   "source": [
    "from simulate_game import simulate_game\n",
    "from competitive_sudoku.sudoku import load_sudoku\n",
    "\n",
    "import importlib\n",
    "import sys\n",
    "import io\n",
    "import os\n",
    "import pandas as pd\n",
    "import matplotlib.pyplot as plt\n",
    "import itertools\n",
    "from datetime import datetime\n",
    "\n",
    "from tqdm import tqdm"
   ]
  },
  {
   "cell_type": "code",
   "execution_count": 2,
   "id": "5c8075f3",
   "metadata": {},
   "outputs": [],
   "source": [
    "# Winner 0 if it was a draw, 1 if player 1 won, 2 if player 2 won\n",
    "# Reason:\n",
    "# \"regular\" if it was played till the end\n",
    "# \"taboo\" if a taboo move was played\n",
    "# \"invalid\" if invalid move was played\n",
    "# \"illegal\" if illegal move was played\n",
    "# \"no move\" if no move was supplied\n",
    "\n",
    "\n",
    "def run_simulation(first_player: str, second_player: str, board_name: str, time: float) -> set:\n",
    "    player1 = importlib.import_module(first_player + '.sudokuai').SudokuAI()\n",
    "    player2 = importlib.import_module(second_player + '.sudokuai').SudokuAI()\n",
    "    player1.player_number = 1\n",
    "    player2.player_number = 2\n",
    "    \n",
    "    # We do not check for specific ai, just give it to all of them\n",
    "    player1.solve_sudoku_path = 'bin\\\\solve_sudoku.exe'\n",
    "    player2.solve_sudoku_path = 'bin\\\\solve_sudoku.exe'\n",
    "    \n",
    "    board = load_sudoku(board_name)\n",
    "    \n",
    "    # Note for future, we do not clean up files\n",
    "    \n",
    "    old_stdout = sys.stdout\n",
    "    sys.stdout = buffer = io.StringIO()\n",
    "    \n",
    "    simulate_game(board, player1, player2, solve_sudoku_path='bin\\\\solve_sudoku.exe', calculation_time=time)\n",
    "    \n",
    "    sys.stdout = old_stdout\n",
    "    result = buffer.getvalue()\n",
    "    \n",
    "    last_line = result.splitlines()[-1]\n",
    "    splitted_line = last_line.split(\".\")\n",
    "    \n",
    "    if len(splitted_line) == 2:\n",
    "        winner = {\"The game ends in a draw\": 0, \"Player 1 wins the game\":1, \n",
    "                  \"Player 2 wins the game\":2}[splitted_line[0]]\n",
    "        reason = \"regular\"\n",
    "    \n",
    "    else:\n",
    "        winner = {\" The game ends in a draw\": 0, \" Player 1 wins the game\":1, \n",
    "                  \" Player 2 wins the game\":2}[splitted_line[1]]\n",
    "        reason = {\"taboo move\": \"taboo\", \"valid move\": \"invalid\", \"legal move\": \"illegal\", \n",
    "                  \"s supplied\": \"no move\"}[splitted_line[0][-10:]]\n",
    "    \n",
    "    return winner, reason"
   ]
  },
  {
   "cell_type": "code",
   "execution_count": 3,
   "id": "cac2d8d6",
   "metadata": {},
   "outputs": [],
   "source": [
    "from distutils.dir_util import copy_tree\n",
    "\n",
    "def create_new_file(C, t, s):\n",
    "\n",
    "    copy_tree(\"MC_tests//team41_A3_MC_2_False_max\", f\"MC_tests//team41_A3_MC_{C}_{t}_{s}\")\n",
    "    os.remove(f\"MC_tests//team41_A3_MC_{C}_{t}_{s}//sudokuai.py\")\n",
    "\n",
    "    with open(\"MC_tests//team41_A3_MC_2_False_max//sudokuai.py\") as old_file:\n",
    "        with open(f\"MC_tests//team41_A3_MC_{C}_{t}_{s}//sudokuai.py\", \"w\") as new_file:\n",
    "            for line in old_file:\n",
    "                if line == \"global_C = 2\\n\":\n",
    "                    new_file.write(f\"global_C = {C}\\n\")\n",
    "\n",
    "                elif line == \"global_total = False\\n\":\n",
    "                    new_file.write(f\"global_total = {t}\\n\")\n",
    "\n",
    "                elif line == \"global_selection = \\\"max\\\"\\n\":\n",
    "                    new_file.write(f\"global_selection = \\\"{s}\\\"\\n\")\n",
    "\n",
    "                else:\n",
    "                    new_file.write(line)"
   ]
  },
  {
   "cell_type": "code",
   "execution_count": 4,
   "id": "c772d1d6",
   "metadata": {},
   "outputs": [],
   "source": [
    "Cs = [0, 2, 5, 10]\n",
    "totals = [False, True]\n",
    "selections = [\"max\", \"robust\"]"
   ]
  },
  {
   "cell_type": "code",
   "execution_count": null,
   "id": "b8e808ce",
   "metadata": {},
   "outputs": [],
   "source": [
    "boards = os.listdir(\"boards\")\n",
    "df = pd.DataFrame(columns = [\"board\", \"starting\", \"C\", \"totals\", \"selection\", \"result\", \"reason\"])\n",
    "\n",
    "for setup in tqdm(list(itertools.product(Cs, totals, selections))):\n",
    "    if setup != (2,False,\"max\"):\n",
    "        create_new_file(setup[0], setup[1], setup[2])\n",
    "        \n",
    "for board in tqdm(boards):\n",
    "    for setup in tqdm(list(itertools.product(Cs, totals, selections))):\n",
    "        current_time = datetime.now().strftime(\"%H:%M:%S\")\n",
    "        print(\"Current Time =\", current_time)\n",
    "\n",
    "        winner, reason = run_simulation(f\"MC_tests.team41_A3_MC_{setup[0]}_{setup[1]}_{setup[2]}\",\"random_player\", f'boards//{board}', 0.5)\n",
    "        result = {0: 0, 1:1, 2:-1}[winner]\n",
    "        new_row = pd.DataFrame({\"board\": board[:-4], \"starting\": True, \"C\": setup[0], \"totals\": setup[1],\n",
    "                                \"selection\": setup[2], \"result\": result, \"reason\": reason}, index=[0])\n",
    "\n",
    "        df = pd.concat([df, new_row]).reset_index(drop = True)\n",
    "\n",
    "\n",
    "        current_time = datetime.now().strftime(\"%H:%M:%S\")\n",
    "        print(\"Current Time =\", current_time)\n",
    "\n",
    "        winner, reason = run_simulation(\"random_player\", f\"MC_tests.team41_A3_MC_{setup[0]}_{setup[1]}_{setup[2]}\", f'boards//{board}', 0.5)\n",
    "        result = {0: 0, 1:-1, 2:1}[winner]\n",
    "        result = {0: 0, 1:1, 2:-1}[winner]\n",
    "        new_row = pd.DataFrame({\"board\": board[:-4], \"starting\": True, \"C\": setup[0], \"totals\": setup[1],\n",
    "                                \"selection\": setup[2], \"result\": result, \"reason\": reason}, index=[0])\n",
    "\n",
    "        df = pd.concat([df, new_row]).reset_index(drop = True)\n",
    "\n",
    "        df.to_csv(f'MC_tests//results4.csv', index = False)"
   ]
  },
  {
   "cell_type": "code",
   "execution_count": 6,
   "id": "3f571a04",
   "metadata": {},
   "outputs": [
    {
     "name": "stderr",
     "output_type": "stream",
     "text": [
      "100%|██████████████████████████████████████████████████████████████████████████████████| 16/16 [00:00<00:00, 92.79it/s]\n",
      "  0%|                                                                                           | 0/12 [00:00<?, ?it/s]\n",
      "  0%|                                                                                           | 0/16 [00:00<?, ?it/s]\u001b[A"
     ]
    },
    {
     "name": "stdout",
     "output_type": "stream",
     "text": [
      "Current Time = 15:49:56\n",
      "Current Time = 15:50:45\n"
     ]
    },
    {
     "name": "stderr",
     "output_type": "stream",
     "text": [
      "\n",
      "  6%|█████▏                                                                             | 1/16 [01:34<23:44, 94.96s/it]\u001b[A"
     ]
    },
    {
     "name": "stdout",
     "output_type": "stream",
     "text": [
      "Current Time = 15:51:31\n",
      "Current Time = 15:52:21\n"
     ]
    },
    {
     "name": "stderr",
     "output_type": "stream",
     "text": [
      "\n",
      " 12%|██████████▍                                                                        | 2/16 [03:12<22:34, 96.74s/it]\u001b[A"
     ]
    },
    {
     "name": "stdout",
     "output_type": "stream",
     "text": [
      "Current Time = 15:53:09\n",
      "Current Time = 15:53:55\n"
     ]
    },
    {
     "name": "stderr",
     "output_type": "stream",
     "text": [
      "\n",
      " 19%|███████████████▌                                                                   | 3/16 [04:47<20:44, 95.73s/it]\u001b[A"
     ]
    },
    {
     "name": "stdout",
     "output_type": "stream",
     "text": [
      "Current Time = 15:54:43\n",
      "Current Time = 15:55:32\n"
     ]
    },
    {
     "name": "stderr",
     "output_type": "stream",
     "text": [
      "\n",
      " 25%|████████████████████▊                                                              | 4/16 [06:27<19:30, 97.58s/it]\u001b[A"
     ]
    },
    {
     "name": "stdout",
     "output_type": "stream",
     "text": [
      "Current Time = 15:56:24\n",
      "Current Time = 15:57:09\n"
     ]
    },
    {
     "name": "stderr",
     "output_type": "stream",
     "text": [
      "\n",
      " 31%|█████████████████████████▉                                                         | 5/16 [08:01<17:37, 96.15s/it]\u001b[A"
     ]
    },
    {
     "name": "stdout",
     "output_type": "stream",
     "text": [
      "Current Time = 15:57:57\n",
      "Current Time = 15:58:49\n"
     ]
    },
    {
     "name": "stderr",
     "output_type": "stream",
     "text": [
      "\n",
      " 38%|███████████████████████████████▏                                                   | 6/16 [09:46<16:30, 99.02s/it]\u001b[A"
     ]
    },
    {
     "name": "stdout",
     "output_type": "stream",
     "text": [
      "Current Time = 15:59:42\n",
      "Current Time = 16:00:32\n"
     ]
    },
    {
     "name": "stderr",
     "output_type": "stream",
     "text": [
      "\n",
      " 44%|████████████████████████████████████▎                                              | 7/16 [11:25<14:51, 99.08s/it]\u001b[A"
     ]
    },
    {
     "name": "stdout",
     "output_type": "stream",
     "text": [
      "Current Time = 16:01:21\n",
      "Current Time = 16:02:11\n"
     ]
    },
    {
     "name": "stderr",
     "output_type": "stream",
     "text": [
      "\n",
      " 50%|█████████████████████████████████████████▌                                         | 8/16 [13:00<13:03, 97.92s/it]\u001b[A"
     ]
    },
    {
     "name": "stdout",
     "output_type": "stream",
     "text": [
      "Current Time = 16:02:56\n",
      "Current Time = 16:03:47\n"
     ]
    },
    {
     "name": "stderr",
     "output_type": "stream",
     "text": [
      "\n",
      " 56%|██████████████████████████████████████████████▋                                    | 9/16 [14:34<11:17, 96.76s/it]\u001b[A"
     ]
    },
    {
     "name": "stdout",
     "output_type": "stream",
     "text": [
      "Current Time = 16:04:31\n",
      "Current Time = 16:05:19\n"
     ]
    },
    {
     "name": "stderr",
     "output_type": "stream",
     "text": [
      "\n",
      " 62%|███████████████████████████████████████████████████▎                              | 10/16 [16:14<09:44, 97.47s/it]\u001b[A"
     ]
    },
    {
     "name": "stdout",
     "output_type": "stream",
     "text": [
      "Current Time = 16:06:10\n",
      "Current Time = 16:06:56\n"
     ]
    },
    {
     "name": "stderr",
     "output_type": "stream",
     "text": [
      "\n",
      " 69%|████████████████████████████████████████████████████████▍                         | 11/16 [17:52<08:08, 97.79s/it]\u001b[A"
     ]
    },
    {
     "name": "stdout",
     "output_type": "stream",
     "text": [
      "Current Time = 16:07:48\n",
      "Current Time = 16:08:36\n"
     ]
    },
    {
     "name": "stderr",
     "output_type": "stream",
     "text": [
      "\n",
      " 75%|█████████████████████████████████████████████████████████████▌                    | 12/16 [19:28<06:29, 97.28s/it]\u001b[A"
     ]
    },
    {
     "name": "stdout",
     "output_type": "stream",
     "text": [
      "Current Time = 16:09:24\n",
      "Current Time = 16:10:12\n"
     ]
    },
    {
     "name": "stderr",
     "output_type": "stream",
     "text": [
      "\n",
      " 81%|██████████████████████████████████████████████████████████████████▋               | 13/16 [21:02<04:48, 96.13s/it]\u001b[A"
     ]
    },
    {
     "name": "stdout",
     "output_type": "stream",
     "text": [
      "Current Time = 16:10:58\n",
      "Current Time = 16:11:54\n"
     ]
    },
    {
     "name": "stderr",
     "output_type": "stream",
     "text": [
      "\n",
      " 88%|███████████████████████████████████████████████████████████████████████▊          | 14/16 [22:47<03:17, 98.81s/it]\u001b[A"
     ]
    },
    {
     "name": "stdout",
     "output_type": "stream",
     "text": [
      "Current Time = 16:12:43\n",
      "Current Time = 16:13:31\n"
     ]
    },
    {
     "name": "stderr",
     "output_type": "stream",
     "text": [
      "\n",
      " 94%|████████████████████████████████████████████████████████████████████████████▉     | 15/16 [24:20<01:37, 97.31s/it]\u001b[A"
     ]
    },
    {
     "name": "stdout",
     "output_type": "stream",
     "text": [
      "Current Time = 16:14:17\n",
      "Current Time = 16:15:09\n"
     ]
    },
    {
     "name": "stderr",
     "output_type": "stream",
     "text": [
      "\n",
      "100%|██████████████████████████████████████████████████████████████████████████████████| 16/16 [26:01<00:00, 97.57s/it]\u001b[A\n",
      " 67%|██████████████████████████████████████████████████████▋                           | 8/12 [26:01<13:00, 195.14s/it]\n",
      "  0%|                                                                                           | 0/16 [00:00<?, ?it/s]\u001b[A"
     ]
    },
    {
     "name": "stdout",
     "output_type": "stream",
     "text": [
      "Current Time = 16:15:57\n",
      "Current Time = 16:16:07\n"
     ]
    },
    {
     "name": "stderr",
     "output_type": "stream",
     "text": [
      "\n",
      "  6%|█████▏                                                                             | 1/16 [00:21<05:24, 21.66s/it]\u001b[A"
     ]
    },
    {
     "name": "stdout",
     "output_type": "stream",
     "text": [
      "Current Time = 16:16:19\n",
      "Current Time = 16:16:30\n"
     ]
    },
    {
     "name": "stderr",
     "output_type": "stream",
     "text": [
      "\n",
      " 12%|██████████▍                                                                        | 2/16 [00:44<05:11, 22.24s/it]\u001b[A"
     ]
    },
    {
     "name": "stdout",
     "output_type": "stream",
     "text": [
      "Current Time = 16:16:41\n",
      "Current Time = 16:16:53\n"
     ]
    },
    {
     "name": "stderr",
     "output_type": "stream",
     "text": [
      "\n",
      " 19%|███████████████▌                                                                   | 3/16 [01:06<04:48, 22.20s/it]\u001b[A"
     ]
    },
    {
     "name": "stdout",
     "output_type": "stream",
     "text": [
      "Current Time = 16:17:03\n",
      "Current Time = 16:17:13\n"
     ]
    },
    {
     "name": "stderr",
     "output_type": "stream",
     "text": [
      "\n",
      " 25%|████████████████████▊                                                              | 4/16 [01:27<04:20, 21.75s/it]\u001b[A"
     ]
    },
    {
     "name": "stdout",
     "output_type": "stream",
     "text": [
      "Current Time = 16:17:24\n",
      "Current Time = 16:17:35\n"
     ]
    },
    {
     "name": "stderr",
     "output_type": "stream",
     "text": [
      "\n",
      " 31%|█████████████████████████▉                                                         | 5/16 [01:48<03:56, 21.51s/it]\u001b[A"
     ]
    },
    {
     "name": "stdout",
     "output_type": "stream",
     "text": [
      "Current Time = 16:17:45\n",
      "Current Time = 16:17:56\n"
     ]
    },
    {
     "name": "stderr",
     "output_type": "stream",
     "text": [
      "\n",
      " 38%|███████████████████████████████▏                                                   | 6/16 [02:10<03:35, 21.55s/it]\u001b[A"
     ]
    },
    {
     "name": "stdout",
     "output_type": "stream",
     "text": [
      "Current Time = 16:18:07\n",
      "Current Time = 16:18:19\n"
     ]
    },
    {
     "name": "stderr",
     "output_type": "stream",
     "text": [
      "\n",
      " 44%|████████████████████████████████████▎                                              | 7/16 [02:31<03:13, 21.55s/it]\u001b[A"
     ]
    },
    {
     "name": "stdout",
     "output_type": "stream",
     "text": [
      "Current Time = 16:18:29\n",
      "Current Time = 16:18:39\n"
     ]
    },
    {
     "name": "stderr",
     "output_type": "stream",
     "text": [
      "\n",
      " 50%|█████████████████████████████████████████▌                                         | 8/16 [02:53<02:53, 21.70s/it]\u001b[A"
     ]
    },
    {
     "name": "stdout",
     "output_type": "stream",
     "text": [
      "Current Time = 16:18:51\n",
      "Current Time = 16:19:01\n"
     ]
    },
    {
     "name": "stderr",
     "output_type": "stream",
     "text": [
      "\n",
      " 56%|██████████████████████████████████████████████▋                                    | 9/16 [03:14<02:30, 21.48s/it]\u001b[A"
     ]
    },
    {
     "name": "stdout",
     "output_type": "stream",
     "text": [
      "Current Time = 16:19:12\n",
      "Current Time = 16:19:22\n"
     ]
    },
    {
     "name": "stderr",
     "output_type": "stream",
     "text": [
      "\n",
      " 62%|███████████████████████████████████████████████████▎                              | 10/16 [03:35<02:07, 21.18s/it]\u001b[A"
     ]
    },
    {
     "name": "stdout",
     "output_type": "stream",
     "text": [
      "Current Time = 16:19:32\n",
      "Current Time = 16:19:42\n"
     ]
    },
    {
     "name": "stderr",
     "output_type": "stream",
     "text": [
      "\n",
      " 69%|████████████████████████████████████████████████████████▍                         | 11/16 [03:56<01:45, 21.20s/it]\u001b[A"
     ]
    },
    {
     "name": "stdout",
     "output_type": "stream",
     "text": [
      "Current Time = 16:19:53\n",
      "Current Time = 16:20:05\n"
     ]
    },
    {
     "name": "stderr",
     "output_type": "stream",
     "text": [
      "\n",
      " 75%|█████████████████████████████████████████████████████████████▌                    | 12/16 [04:18<01:25, 21.50s/it]\u001b[A"
     ]
    },
    {
     "name": "stdout",
     "output_type": "stream",
     "text": [
      "Current Time = 16:20:16\n",
      "Current Time = 16:20:26\n"
     ]
    },
    {
     "name": "stderr",
     "output_type": "stream",
     "text": [
      "\n",
      " 81%|██████████████████████████████████████████████████████████████████▋               | 13/16 [04:40<01:04, 21.50s/it]\u001b[A"
     ]
    },
    {
     "name": "stdout",
     "output_type": "stream",
     "text": [
      "Current Time = 16:20:37\n",
      "Current Time = 16:20:48\n"
     ]
    },
    {
     "name": "stderr",
     "output_type": "stream",
     "text": [
      "\n",
      " 88%|███████████████████████████████████████████████████████████████████████▊          | 14/16 [05:02<00:43, 21.71s/it]\u001b[A"
     ]
    },
    {
     "name": "stdout",
     "output_type": "stream",
     "text": [
      "Current Time = 16:20:59\n",
      "Current Time = 16:21:10\n"
     ]
    },
    {
     "name": "stderr",
     "output_type": "stream",
     "text": [
      "\n",
      " 94%|████████████████████████████████████████████████████████████████████████████▉     | 15/16 [05:25<00:21, 21.98s/it]\u001b[A"
     ]
    },
    {
     "name": "stdout",
     "output_type": "stream",
     "text": [
      "Current Time = 16:21:22\n",
      "Current Time = 16:21:32\n"
     ]
    },
    {
     "name": "stderr",
     "output_type": "stream",
     "text": [
      "\n",
      "100%|██████████████████████████████████████████████████████████████████████████████████| 16/16 [05:47<00:00, 21.70s/it]\u001b[A\n",
      " 75%|█████████████████████████████████████████████████████████████▌                    | 9/12 [31:48<10:54, 218.19s/it]\n",
      "  0%|                                                                                           | 0/16 [00:00<?, ?it/s]\u001b[A"
     ]
    },
    {
     "name": "stdout",
     "output_type": "stream",
     "text": [
      "Current Time = 16:21:44\n",
      "Current Time = 16:22:12\n"
     ]
    },
    {
     "name": "stderr",
     "output_type": "stream",
     "text": [
      "\n",
      "  6%|█████▏                                                                             | 1/16 [00:53<13:29, 53.94s/it]\u001b[A"
     ]
    },
    {
     "name": "stdout",
     "output_type": "stream",
     "text": [
      "Current Time = 16:22:38\n",
      "Current Time = 16:23:04\n"
     ]
    },
    {
     "name": "stderr",
     "output_type": "stream",
     "text": [
      "\n",
      " 12%|██████████▍                                                                        | 2/16 [01:46<12:24, 53.18s/it]\u001b[A"
     ]
    },
    {
     "name": "stdout",
     "output_type": "stream",
     "text": [
      "Current Time = 16:23:31\n",
      "Current Time = 16:23:58\n"
     ]
    },
    {
     "name": "stderr",
     "output_type": "stream",
     "text": [
      "\n",
      " 19%|███████████████▌                                                                   | 3/16 [02:40<11:35, 53.51s/it]\u001b[A"
     ]
    },
    {
     "name": "stdout",
     "output_type": "stream",
     "text": [
      "Current Time = 16:24:25\n",
      "Current Time = 16:24:38\n"
     ]
    },
    {
     "name": "stderr",
     "output_type": "stream",
     "text": [
      "\n",
      " 25%|████████████████████▊                                                              | 4/16 [03:20<09:39, 48.33s/it]\u001b[A"
     ]
    },
    {
     "name": "stdout",
     "output_type": "stream",
     "text": [
      "Current Time = 16:25:05\n",
      "Current Time = 16:25:28\n"
     ]
    },
    {
     "name": "stderr",
     "output_type": "stream",
     "text": [
      "\n",
      " 31%|█████████████████████████▉                                                         | 5/16 [04:09<08:51, 48.34s/it]\u001b[A"
     ]
    },
    {
     "name": "stdout",
     "output_type": "stream",
     "text": [
      "Current Time = 16:25:53\n",
      "Current Time = 16:26:19\n"
     ]
    },
    {
     "name": "stderr",
     "output_type": "stream",
     "text": [
      "\n",
      " 38%|███████████████████████████████▏                                                   | 6/16 [05:00<08:14, 49.44s/it]\u001b[A"
     ]
    },
    {
     "name": "stdout",
     "output_type": "stream",
     "text": [
      "Current Time = 16:26:45\n",
      "Current Time = 16:27:11\n"
     ]
    },
    {
     "name": "stderr",
     "output_type": "stream",
     "text": [
      "\n",
      " 44%|████████████████████████████████████▎                                              | 7/16 [05:51<07:27, 49.77s/it]\u001b[A"
     ]
    },
    {
     "name": "stdout",
     "output_type": "stream",
     "text": [
      "Current Time = 16:27:35\n",
      "Current Time = 16:27:59\n"
     ]
    },
    {
     "name": "stderr",
     "output_type": "stream",
     "text": [
      "\n",
      " 50%|█████████████████████████████████████████▌                                         | 8/16 [06:42<06:42, 50.33s/it]\u001b[A"
     ]
    },
    {
     "name": "stdout",
     "output_type": "stream",
     "text": [
      "Current Time = 16:28:27\n",
      "Current Time = 16:28:51\n"
     ]
    },
    {
     "name": "stderr",
     "output_type": "stream",
     "text": [
      "\n",
      " 56%|██████████████████████████████████████████████▋                                    | 9/16 [07:32<05:50, 50.06s/it]\u001b[A"
     ]
    },
    {
     "name": "stdout",
     "output_type": "stream",
     "text": [
      "Current Time = 16:29:16\n",
      "Current Time = 16:29:43\n"
     ]
    },
    {
     "name": "stderr",
     "output_type": "stream",
     "text": [
      "\n",
      " 62%|███████████████████████████████████████████████████▎                              | 10/16 [08:24<05:04, 50.69s/it]\u001b[A"
     ]
    },
    {
     "name": "stdout",
     "output_type": "stream",
     "text": [
      "Current Time = 16:30:08\n",
      "Current Time = 16:30:32\n"
     ]
    },
    {
     "name": "stderr",
     "output_type": "stream",
     "text": [
      "\n",
      " 69%|████████████████████████████████████████████████████████▍                         | 11/16 [09:11<04:07, 49.50s/it]\u001b[A"
     ]
    },
    {
     "name": "stdout",
     "output_type": "stream",
     "text": [
      "Current Time = 16:30:55\n",
      "Current Time = 16:31:21\n"
     ]
    },
    {
     "name": "stderr",
     "output_type": "stream",
     "text": [
      "\n",
      " 75%|█████████████████████████████████████████████████████████████▌                    | 12/16 [10:02<03:20, 50.02s/it]\u001b[A"
     ]
    },
    {
     "name": "stdout",
     "output_type": "stream",
     "text": [
      "Current Time = 16:31:46\n",
      "Current Time = 16:32:12\n"
     ]
    },
    {
     "name": "stderr",
     "output_type": "stream",
     "text": [
      "\n",
      " 81%|██████████████████████████████████████████████████████████████████▋               | 13/16 [10:53<02:31, 50.51s/it]\u001b[A"
     ]
    },
    {
     "name": "stdout",
     "output_type": "stream",
     "text": [
      "Current Time = 16:32:38\n",
      "Current Time = 16:33:05\n"
     ]
    },
    {
     "name": "stderr",
     "output_type": "stream",
     "text": [
      "\n",
      " 88%|███████████████████████████████████████████████████████████████████████▊          | 14/16 [11:45<01:41, 50.66s/it]\u001b[A"
     ]
    },
    {
     "name": "stdout",
     "output_type": "stream",
     "text": [
      "Current Time = 16:33:29\n",
      "Current Time = 16:33:54\n"
     ]
    },
    {
     "name": "stderr",
     "output_type": "stream",
     "text": [
      "\n",
      " 94%|████████████████████████████████████████████████████████████████████████████▉     | 15/16 [12:35<00:50, 50.62s/it]\u001b[A"
     ]
    },
    {
     "name": "stdout",
     "output_type": "stream",
     "text": [
      "Current Time = 16:34:20\n",
      "Current Time = 16:34:44\n"
     ]
    },
    {
     "name": "stderr",
     "output_type": "stream",
     "text": [
      "\n",
      "100%|██████████████████████████████████████████████████████████████████████████████████| 16/16 [13:25<00:00, 50.34s/it]\u001b[A\n",
      " 83%|███████████████████████████████████████████████████████████████████▌             | 10/12 [45:13<10:45, 322.69s/it]\n",
      "  0%|                                                                                           | 0/16 [00:00<?, ?it/s]\u001b[A"
     ]
    },
    {
     "name": "stdout",
     "output_type": "stream",
     "text": [
      "Current Time = 16:35:10\n",
      "Current Time = 16:36:03\n"
     ]
    },
    {
     "name": "stderr",
     "output_type": "stream",
     "text": [
      "\n",
      "  6%|█████▏                                                                             | 1/16 [01:39<24:46, 99.08s/it]\u001b[A"
     ]
    },
    {
     "name": "stdout",
     "output_type": "stream",
     "text": [
      "Current Time = 16:36:49\n",
      "Current Time = 16:37:39\n"
     ]
    },
    {
     "name": "stderr",
     "output_type": "stream",
     "text": [
      "\n",
      " 12%|██████████▎                                                                       | 2/16 [03:21<23:35, 101.11s/it]\u001b[A"
     ]
    },
    {
     "name": "stdout",
     "output_type": "stream",
     "text": [
      "Current Time = 16:38:31\n",
      "Current Time = 16:39:19\n"
     ]
    },
    {
     "name": "stderr",
     "output_type": "stream",
     "text": [
      "\n",
      " 19%|███████████████▌                                                                   | 3/16 [05:00<21:38, 99.88s/it]\u001b[A"
     ]
    },
    {
     "name": "stdout",
     "output_type": "stream",
     "text": [
      "Current Time = 16:40:10\n",
      "Current Time = 16:41:00\n"
     ]
    },
    {
     "name": "stderr",
     "output_type": "stream",
     "text": [
      "\n",
      " 25%|████████████████████▌                                                             | 4/16 [06:47<20:32, 102.74s/it]\u001b[A"
     ]
    },
    {
     "name": "stdout",
     "output_type": "stream",
     "text": [
      "Current Time = 16:41:57\n",
      "Current Time = 16:42:49\n"
     ]
    },
    {
     "name": "stderr",
     "output_type": "stream",
     "text": [
      "\n",
      " 31%|█████████████████████████▋                                                        | 5/16 [08:29<18:48, 102.60s/it]\u001b[A"
     ]
    },
    {
     "name": "stdout",
     "output_type": "stream",
     "text": [
      "Current Time = 16:43:39\n",
      "Current Time = 16:44:34\n"
     ]
    },
    {
     "name": "stderr",
     "output_type": "stream",
     "text": [
      "\n",
      " 38%|██████████████████████████████▊                                                   | 6/16 [10:16<17:20, 104.09s/it]\u001b[A"
     ]
    },
    {
     "name": "stdout",
     "output_type": "stream",
     "text": [
      "Current Time = 16:45:26\n",
      "Current Time = 16:46:15\n"
     ]
    },
    {
     "name": "stderr",
     "output_type": "stream",
     "text": [
      "\n",
      " 44%|███████████████████████████████████▉                                              | 7/16 [11:55<15:22, 102.49s/it]\u001b[A"
     ]
    },
    {
     "name": "stdout",
     "output_type": "stream",
     "text": [
      "Current Time = 16:47:05\n",
      "Current Time = 16:47:55\n"
     ]
    },
    {
     "name": "stderr",
     "output_type": "stream",
     "text": [
      "\n",
      " 50%|█████████████████████████████████████████                                         | 8/16 [13:38<13:39, 102.45s/it]\u001b[A"
     ]
    },
    {
     "name": "stdout",
     "output_type": "stream",
     "text": [
      "Current Time = 16:48:48\n",
      "Current Time = 16:49:37\n"
     ]
    },
    {
     "name": "stderr",
     "output_type": "stream",
     "text": [
      "\n",
      " 56%|██████████████████████████████████████████████▏                                   | 9/16 [15:17<11:49, 101.38s/it]\u001b[A"
     ]
    },
    {
     "name": "stdout",
     "output_type": "stream",
     "text": [
      "Current Time = 16:50:27\n",
      "Current Time = 16:51:18\n"
     ]
    },
    {
     "name": "stderr",
     "output_type": "stream",
     "text": [
      "\n",
      " 62%|██████████████████████████████████████████████████▋                              | 10/16 [16:58<10:08, 101.44s/it]\u001b[A"
     ]
    },
    {
     "name": "stdout",
     "output_type": "stream",
     "text": [
      "Current Time = 16:52:08\n",
      "Current Time = 16:52:57\n"
     ]
    },
    {
     "name": "stderr",
     "output_type": "stream",
     "text": [
      "\n",
      " 69%|███████████████████████████████████████████████████████▋                         | 11/16 [18:39<08:26, 101.23s/it]\u001b[A"
     ]
    },
    {
     "name": "stdout",
     "output_type": "stream",
     "text": [
      "Current Time = 16:53:49\n",
      "Current Time = 16:54:39\n"
     ]
    },
    {
     "name": "stderr",
     "output_type": "stream",
     "text": [
      "\n",
      " 75%|████████████████████████████████████████████████████████████▊                    | 12/16 [20:20<06:44, 101.04s/it]\u001b[A"
     ]
    },
    {
     "name": "stdout",
     "output_type": "stream",
     "text": [
      "Current Time = 16:55:30\n",
      "Current Time = 16:56:21\n"
     ]
    },
    {
     "name": "stderr",
     "output_type": "stream",
     "text": [
      "\n",
      " 81%|█████████████████████████████████████████████████████████████████▊               | 13/16 [22:01<05:03, 101.19s/it]\u001b[A"
     ]
    },
    {
     "name": "stdout",
     "output_type": "stream",
     "text": [
      "Current Time = 16:57:11\n",
      "Current Time = 16:58:04\n"
     ]
    },
    {
     "name": "stderr",
     "output_type": "stream",
     "text": [
      "\n",
      " 88%|██████████████████████████████████████████████████████████████████████▉          | 14/16 [23:44<03:23, 101.84s/it]\u001b[A"
     ]
    },
    {
     "name": "stdout",
     "output_type": "stream",
     "text": [
      "Current Time = 16:58:54\n",
      "Current Time = 16:59:43\n"
     ]
    },
    {
     "name": "stderr",
     "output_type": "stream",
     "text": [
      "\n",
      " 94%|███████████████████████████████████████████████████████████████████████████▉     | 15/16 [25:26<01:41, 101.65s/it]\u001b[A"
     ]
    },
    {
     "name": "stdout",
     "output_type": "stream",
     "text": [
      "Current Time = 17:00:36\n",
      "Current Time = 17:01:24\n"
     ]
    },
    {
     "name": "stderr",
     "output_type": "stream",
     "text": [
      "\n",
      "100%|█████████████████████████████████████████████████████████████████████████████████| 16/16 [27:02<00:00, 101.44s/it]\u001b[A\n",
      " 92%|████████████████████████████████████████████████████████████████████████▍      | 11/12 [1:12:16<09:46, 586.22s/it]\n",
      "  0%|                                                                                           | 0/16 [00:00<?, ?it/s]\u001b[A"
     ]
    },
    {
     "name": "stdout",
     "output_type": "stream",
     "text": [
      "Current Time = 17:02:13\n",
      "Current Time = 17:03:59\n"
     ]
    },
    {
     "name": "stderr",
     "output_type": "stream",
     "text": [
      "\n",
      "  6%|█████▏                                                                            | 1/16 [03:28<52:08, 208.58s/it]\u001b[A"
     ]
    },
    {
     "name": "stdout",
     "output_type": "stream",
     "text": [
      "Current Time = 17:05:41\n",
      "Current Time = 17:07:17\n"
     ]
    },
    {
     "name": "stderr",
     "output_type": "stream",
     "text": [
      "\n",
      " 12%|██████████▎                                                                       | 2/16 [06:38<46:04, 197.45s/it]\u001b[A"
     ]
    },
    {
     "name": "stdout",
     "output_type": "stream",
     "text": [
      "Current Time = 17:08:51\n",
      "Current Time = 17:10:32\n"
     ]
    },
    {
     "name": "stderr",
     "output_type": "stream",
     "text": [
      "\n",
      " 19%|███████████████▍                                                                  | 3/16 [10:10<44:14, 204.17s/it]\u001b[A"
     ]
    },
    {
     "name": "stdout",
     "output_type": "stream",
     "text": [
      "Current Time = 17:12:23\n",
      "Current Time = 17:13:59\n"
     ]
    },
    {
     "name": "stderr",
     "output_type": "stream",
     "text": [
      "\n",
      " 25%|████████████████████▌                                                             | 4/16 [13:25<40:05, 200.50s/it]\u001b[A"
     ]
    },
    {
     "name": "stdout",
     "output_type": "stream",
     "text": [
      "Current Time = 17:15:38\n",
      "Current Time = 17:17:27\n"
     ]
    },
    {
     "name": "stderr",
     "output_type": "stream",
     "text": [
      "\n",
      " 31%|█████████████████████████▋                                                        | 5/16 [16:56<37:28, 204.37s/it]\u001b[A"
     ]
    },
    {
     "name": "stdout",
     "output_type": "stream",
     "text": [
      "Current Time = 17:19:09\n",
      "Current Time = 17:20:50\n"
     ]
    },
    {
     "name": "stderr",
     "output_type": "stream",
     "text": [
      "\n",
      " 38%|██████████████████████████████▊                                                   | 6/16 [20:21<34:04, 204.50s/it]\u001b[A"
     ]
    },
    {
     "name": "stdout",
     "output_type": "stream",
     "text": [
      "Current Time = 17:22:34\n",
      "Current Time = 17:24:12\n"
     ]
    },
    {
     "name": "stderr",
     "output_type": "stream",
     "text": [
      "\n",
      " 44%|███████████████████████████████████▉                                              | 7/16 [23:42<30:31, 203.47s/it]\u001b[A"
     ]
    },
    {
     "name": "stdout",
     "output_type": "stream",
     "text": [
      "Current Time = 17:25:55\n",
      "Current Time = 17:27:33\n"
     ]
    },
    {
     "name": "stderr",
     "output_type": "stream",
     "text": [
      "\n",
      " 50%|█████████████████████████████████████████                                         | 8/16 [27:02<26:57, 202.18s/it]\u001b[A"
     ]
    },
    {
     "name": "stdout",
     "output_type": "stream",
     "text": [
      "Current Time = 17:29:15\n",
      "Current Time = 17:30:54\n"
     ]
    },
    {
     "name": "stderr",
     "output_type": "stream",
     "text": [
      "\n",
      " 56%|██████████████████████████████████████████████▏                                   | 9/16 [30:20<23:27, 201.09s/it]\u001b[A"
     ]
    },
    {
     "name": "stdout",
     "output_type": "stream",
     "text": [
      "Current Time = 17:32:33\n",
      "Current Time = 17:34:16\n"
     ]
    },
    {
     "name": "stderr",
     "output_type": "stream",
     "text": [
      "\n",
      " 62%|██████████████████████████████████████████████████▋                              | 10/16 [33:39<20:01, 200.28s/it]\u001b[A"
     ]
    },
    {
     "name": "stdout",
     "output_type": "stream",
     "text": [
      "Current Time = 17:35:52\n",
      "Current Time = 17:37:40\n"
     ]
    },
    {
     "name": "stderr",
     "output_type": "stream",
     "text": [
      "\n",
      " 69%|███████████████████████████████████████████████████████▋                         | 11/16 [37:12<17:01, 204.25s/it]\u001b[A"
     ]
    },
    {
     "name": "stdout",
     "output_type": "stream",
     "text": [
      "Current Time = 17:39:25\n",
      "Current Time = 17:41:00\n"
     ]
    },
    {
     "name": "stderr",
     "output_type": "stream",
     "text": [
      "\n",
      " 75%|████████████████████████████████████████████████████████████▊                    | 12/16 [40:25<13:23, 200.96s/it]\u001b[A"
     ]
    },
    {
     "name": "stdout",
     "output_type": "stream",
     "text": [
      "Current Time = 17:42:38\n",
      "Current Time = 17:44:24\n"
     ]
    },
    {
     "name": "stderr",
     "output_type": "stream",
     "text": [
      "\n",
      " 81%|█████████████████████████████████████████████████████████████████▊               | 13/16 [44:01<10:16, 205.50s/it]\u001b[A"
     ]
    },
    {
     "name": "stdout",
     "output_type": "stream",
     "text": [
      "Current Time = 17:46:14\n",
      "Current Time = 17:47:55\n"
     ]
    },
    {
     "name": "stderr",
     "output_type": "stream",
     "text": [
      "\n",
      " 88%|██████████████████████████████████████████████████████████████████████▉          | 14/16 [47:17<06:45, 202.58s/it]\u001b[A"
     ]
    },
    {
     "name": "stdout",
     "output_type": "stream",
     "text": [
      "Current Time = 17:49:30\n",
      "Current Time = 17:51:09\n"
     ]
    },
    {
     "name": "stderr",
     "output_type": "stream",
     "text": [
      "\n",
      " 94%|███████████████████████████████████████████████████████████████████████████▉     | 15/16 [50:43<03:23, 203.63s/it]\u001b[A"
     ]
    },
    {
     "name": "stdout",
     "output_type": "stream",
     "text": [
      "Current Time = 17:52:56\n",
      "Current Time = 17:54:35\n"
     ]
    },
    {
     "name": "stderr",
     "output_type": "stream",
     "text": [
      "\n",
      "100%|█████████████████████████████████████████████████████████████████████████████████| 16/16 [53:59<00:00, 202.49s/it]\u001b[A\n",
      "100%|███████████████████████████████████████████████████████████████████████████████| 12/12 [2:06:16<00:00, 631.39s/it]\n"
     ]
    }
   ],
   "source": [
    "df = pd.DataFrame(columns = [\"board\", \"starting\", \"C\", \"totals\", \"selection\", \"result\", \"reason\"])\n",
    "boards = os.listdir(\"boards\")\n",
    "\n",
    "for setup in tqdm(list(itertools.product(Cs, totals, selections))):\n",
    "    if setup != (2,False,\"max\"):\n",
    "        create_new_file(setup[0], setup[1], setup[2])\n",
    "    \n",
    "for i in tqdm(range(len(boards))):\n",
    "    if i>6:\n",
    "        board = boards[i]\n",
    "        for setup in tqdm(list(itertools.product(Cs, totals, selections))):\n",
    "            current_time = datetime.now().strftime(\"%H:%M:%S\")\n",
    "            print(\"Current Time =\", current_time)\n",
    "\n",
    "            winner, reason = run_simulation(f\"MC_tests.team41_A3_MC_{setup[0]}_{setup[1]}_{setup[2]}\",\"random_player\", f'boards//{board}', 0.5)\n",
    "            result = {0: 0, 1:1, 2:-1}[winner]\n",
    "            new_row = pd.DataFrame({\"board\": board[:-4], \"starting\": True, \"C\": setup[0], \"totals\": setup[1],\n",
    "                                    \"selection\": setup[2], \"result\": result, \"reason\": reason}, index=[0])\n",
    "\n",
    "            df = pd.concat([df, new_row]).reset_index(drop = True)\n",
    "\n",
    "\n",
    "            current_time = datetime.now().strftime(\"%H:%M:%S\")\n",
    "            print(\"Current Time =\", current_time)\n",
    "\n",
    "            winner, reason = run_simulation(\"random_player\", f\"MC_tests.team41_A3_MC_{setup[0]}_{setup[1]}_{setup[2]}\", f'boards//{board}', 0.5)\n",
    "            result = {0: 0, 1:-1, 2:1}[winner]\n",
    "            result = {0: 0, 1:1, 2:-1}[winner]\n",
    "            new_row = pd.DataFrame({\"board\": board[:-4], \"starting\": True, \"C\": setup[0], \"totals\": setup[1],\n",
    "                                    \"selection\": setup[2], \"result\": result, \"reason\": reason}, index=[0])\n",
    "\n",
    "            df = pd.concat([df, new_row]).reset_index(drop = True)\n",
    "\n",
    "            df.to_csv(f'MC_tests//results5.csv', index = False)"
   ]
  },
  {
   "cell_type": "code",
   "execution_count": 11,
   "id": "27c2cf49",
   "metadata": {},
   "outputs": [],
   "source": [
    "df1 = pd.read_csv(\"MC_tests\\\\results3.csv\")\n",
    "df2 = pd.read_csv(\"MC_tests\\\\results5.csv\")\n",
    "df = pd.concat([df, df2])"
   ]
  },
  {
   "cell_type": "code",
   "execution_count": 12,
   "id": "c7d492b0",
   "metadata": {},
   "outputs": [
    {
     "name": "stdout",
     "output_type": "stream",
     "text": [
      "Overall Winrate: 0.45\n"
     ]
    }
   ],
   "source": [
    "wi = round(len(df[df[\"result\"]==1])/len(df),2)\n",
    "print(f\"Overall Winrate: {wi}\")\n",
    "\n",
    "cx = []\n",
    "cy = []\n",
    "for c in [0, 2, 5, 10]:\n",
    "    cx.append(str(c))\n",
    "    cy.append(round(len(df[(df[\"C\"]==c) & (df[\"result\"]==1)])/len(df[df[\"C\"]==c]),2))\n",
    "    \n",
    "tox = []\n",
    "toy = []\n",
    "for to in [True, False]:\n",
    "    tox.append({True: \"Score\", False: \"Wins\"}[to])\n",
    "    toy.append(round(len(df[(df[\"totals\"]==to) & (df[\"result\"]==1)])/len(df[df[\"totals\"]==to]),2))\n",
    "    \n",
    "sex = []\n",
    "sey = []\n",
    "for se in [\"max\", \"robust\"]:\n",
    "    sex.append(se)\n",
    "    sey.append(round(len(df[(df[\"selection\"]==se) & (df[\"result\"]==1)])/len(df[df[\"selection\"]==se]),2))\n",
    "    \n",
    "six = []\n",
    "siy = []\n",
    "for si in [\"2x2\", \"2x3\", \"3x3\", \"3x4\", \"4x4\"]:\n",
    "    six.append(si)\n",
    "    siy.append(round(len(df[(df[\"board\"].str.contains(si)) & (df[\"result\"]==1)])/len(df[df[\"board\"].str.contains(si)]),2))"
   ]
  },
  {
   "cell_type": "code",
   "execution_count": 13,
   "id": "fe52afb6",
   "metadata": {},
   "outputs": [
    {
     "data": {
      "image/png": "[encoded data removed]",
      "text/plain": [
       "<Figure size 1440x360 with 4 Axes>"
      ]
     },
     "metadata": {
      "needs_background": "light"
     },
     "output_type": "display_data"
    }
   ],
   "source": [
    "fig, axs = plt.subplots(1, 4, sharey = True, figsize=(20,5))\n",
    "fig.suptitle(\"Winrates Using Different Settings\", fontsize=25)\n",
    "\n",
    "axs[0].bar(cx, cy, color = \"#6BC319\")\n",
    "axs[0].set_xlabel(\"C\", fontsize=18)\n",
    "axs[0].set_ylabel(\"Winrate\", fontsize=18)\n",
    "axs[0].tick_params(axis=\"both\", labelsize=14)\n",
    "\n",
    "axs[0].set_ylim(top=0.6)\n",
    "\n",
    "axs[1].bar(tox, toy, color = \"#6BC319\")\n",
    "axs[1].set_xlabel(\"Total Values\", fontsize=18)\n",
    "axs[1].tick_params(axis=\"both\", labelsize=14)\n",
    "\n",
    "axs[2].bar(sex, sey, color = \"#6BC319\")\n",
    "axs[2].set_xlabel(\"Selection Method\", fontsize=18)\n",
    "axs[2].tick_params(axis=\"both\", labelsize=14)\n",
    "\n",
    "axs[3].bar(six, siy, color = \"#6BC319\")\n",
    "axs[3].set_xlabel(\"Boardsize\", fontsize=18)\n",
    "axs[3].tick_params(axis=\"both\", labelsize=14)\n",
    "\n",
    "for i in range(4):\n",
    "    for p in axs[i].patches:\n",
    "        axs[i].annotate(str(p.get_height()), (p.get_x() + 0.25, p.get_height() + 0.01), fontsize=14)\n",
    "\n",
    "box_style=dict(boxstyle='round', facecolor='wheat', alpha=0.5)\n",
    "plt.text(-18.55, 0.55, \"n = 96 per possibility\",{'color':'black','weight':'heavy','size':12},bbox=box_style)\n",
    "plt.text(-12.3, 0.55, \"n = 192 per possibility\",{'color':'black','weight':'heavy','size':12},bbox=box_style)   \n",
    "plt.text(-6.5, 0.55, \"n = 192 per selection method\",{'color':'black','weight':'heavy','size':12},bbox=box_style)   \n",
    "plt.text(-0.2, 0.56, \"n = 64 per board n = 128 for 3x3\",{'color':'black','weight':'heavy','size':11},bbox=box_style)\n",
    " \n",
    "\n",
    "plt.savefig(f\"MC_tests\\\\MC_test_result.png\")"
   ]
  }
 ],
 "metadata": {
  "kernelspec": {
   "display_name": "Python 3",
   "language": "python",
   "name": "python3"
  },
  "language_info": {
   "codemirror_mode": {
    "name": "ipython",
    "version": 3
   },
   "file_extension": ".py",
   "mimetype": "text/x-python",
   "name": "python",
   "nbconvert_exporter": "python",
   "pygments_lexer": "ipython3",
   "version": "3.8.8"
  }
 },
 "nbformat": 4,
 "nbformat_minor": 5
}
