{
 "cells": [
  {
   "cell_type": "code",
   "execution_count": 1,
   "id": "de0b885a",
   "metadata": {},
   "outputs": [],
   "source": [
    "from simulate_game import simulate_game\n",
    "from competitive_sudoku.sudoku import load_sudoku\n",
    "\n",
    "import importlib\n",
    "import sys\n",
    "import io\n",
    "import os\n",
    "import pandas as pd\n",
    "import matplotlib.pyplot as plt\n",
    "import itertools\n",
    "\n",
    "from tqdm import tqdm"
   ]
  },
  {
   "cell_type": "code",
   "execution_count": 2,
   "id": "34143686",
   "metadata": {},
   "outputs": [],
   "source": [
    "# Winner 0 if it was a draw, 1 if player 1 won, 2 if player 2 won\n",
    "# Reason:\n",
    "# \"regular\" if it was played till the end\n",
    "# \"taboo\" if a taboo move was played\n",
    "# \"invalid\" if invalid move was played\n",
    "# \"illegal\" if illegal move was played\n",
    "# \"no move\" if no move was supplied\n",
    "\n",
    "\n",
    "def run_simulation(first_player: str, second_player: str, board_name: str, time: float) -> set:\n",
    "    player1 = importlib.import_module(first_player + '.sudokuai').SudokuAI()\n",
    "    player2 = importlib.import_module(second_player + '.sudokuai').SudokuAI()\n",
    "    player1.player_number = 1\n",
    "    player2.player_number = 2\n",
    "    \n",
    "    # We do not check for specific ai, just give it to all of them\n",
    "    player1.solve_sudoku_path = 'bin\\\\solve_sudoku.exe'\n",
    "    player2.solve_sudoku_path = 'bin\\\\solve_sudoku.exe'\n",
    "    \n",
    "    board = load_sudoku(board_name)\n",
    "    \n",
    "    # Note for future, we do not clean up files\n",
    "    \n",
    "    old_stdout = sys.stdout\n",
    "    sys.stdout = buffer = io.StringIO()\n",
    "    \n",
    "    simulate_game(board, player1, player2, solve_sudoku_path='bin\\\\solve_sudoku.exe', calculation_time=time)\n",
    "    \n",
    "    sys.stdout = old_stdout\n",
    "    result = buffer.getvalue()\n",
    "    \n",
    "    last_line = result.splitlines()[-1]\n",
    "    splitted_line = last_line.split(\".\")\n",
    "    \n",
    "    if len(splitted_line) == 2:\n",
    "        winner = {\"The game ends in a draw\": 0, \"Player 1 wins the game\":1, \n",
    "                  \"Player 2 wins the game\":2}[splitted_line[0]]\n",
    "        reason = \"regular\"\n",
    "    \n",
    "    else:\n",
    "        winner = {\" The game ends in a draw\": 0, \" Player 1 wins the game\":1, \n",
    "                  \" Player 2 wins the game\":2}[splitted_line[1]]\n",
    "        reason = {\"taboo move\": \"taboo\", \"valid move\": \"invalid\", \"legal move\": \"illegal\", \n",
    "                  \"s supplied\": \"no move\"}[splitted_line[0][-10:]]\n",
    "    \n",
    "    return winner, reason"
   ]
  },
  {
   "cell_type": "code",
   "execution_count": 3,
   "id": "31a13129",
   "metadata": {},
   "outputs": [],
   "source": [
    "from distutils.dir_util import copy_tree\n",
    "\n",
    "def create_new_file(C, t, s):\n",
    "\n",
    "    copy_tree(\"MC_tests//team41_A3_MC_2_False_max\", f\"MC_tests//team41_A3_MC_{C}_{t}_{s}\")\n",
    "    os.remove(f\"MC_tests//team41_A3_MC_{C}_{t}_{s}//sudokuai.py\")\n",
    "\n",
    "    with open(\"MC_tests//team41_A3_MC_2_False_max//sudokuai.py\") as old_file:\n",
    "        with open(f\"MC_tests//team41_A3_MC_{C}_{t}_{s}//sudokuai.py\", \"w\") as new_file:\n",
    "            for line in old_file:\n",
    "                if line == \"global_C = 2\\n\":\n",
    "                    new_file.write(f\"global_C = {C}\\n\")\n",
    "\n",
    "                elif line == \"global_total = False\\n\":\n",
    "                    new_file.write(f\"global_total = {t}\\n\")\n",
    "\n",
    "                elif line == \"global_selection = \\\"max\\\"\\n\":\n",
    "                    new_file.write(f\"global_selection = \\\"{s}\\\"\\n\")\n",
    "\n",
    "                else:\n",
    "                    new_file.write(line)"
   ]
  },
  {
   "cell_type": "code",
   "execution_count": 4,
   "id": "5362f80d",
   "metadata": {},
   "outputs": [],
   "source": [
    "Cs = [0, 2, 5, 10]\n",
    "totals = [False, True]\n",
    "selections = [\"max\", \"robust\"]"
   ]
  },
  {
   "cell_type": "code",
   "execution_count": null,
   "id": "a301f0e9",
   "metadata": {},
   "outputs": [
    {
     "name": "stderr",
     "output_type": "stream",
     "text": [
      "\r",
      "  0%|                                                                                           | 0/16 [00:00<?, ?it/s]"
     ]
    },
    {
     "name": "stdout",
     "output_type": "stream",
     "text": [
      "easy-2x2.txt\n",
      "easy-3x3.txt\n",
      "empty-2x2.txt\n",
      "empty-2x3.txt\n",
      "empty-3x3.txt\n"
     ]
    }
   ],
   "source": [
    "boards = os.listdir(\"boards\")\n",
    "df = pd.DataFrame(columns = [\"board\", \"starting\", \"C\", \"totals\", \"selection\" \"result\", \"reason\"])\n",
    "\n",
    "for setup in tqdm(list(itertools.product(Cs, totals, selections))):\n",
    "    if setup != (2,False,\"max\"):\n",
    "        create_new_file(setup[0], setup[1], setup[2])\n",
    "        \n",
    "        for board in boards:\n",
    "            print(board)\n",
    "            winner, reason = run_simulation(f\"MC_tests.team41_A3_MC_{setup[0]}_{setup[1]}_{setup[2]}\",\"random_player\", f'boards//{board}', 0.5)\n",
    "            result = {0: 0, 1:1, 2:-1}[winner]\n",
    "            new_row = pd.DataFrame({\"board\": board[:-4], \"starting\": True, \"C\": setup[0], \"totals\": setup[1],\n",
    "                                    \"selection\": setup[2], \"result\": result, \"reason\": reason}, index=[0])\n",
    "\n",
    "            df = pd.concat([df, new_row]).reset_index(drop = True)\n",
    "            \n",
    "            winner, reason = run_simulation(\"random_player\", f\"MC_tests.team41_A3_MC_{setup[0]}_{setup[1]}_{setup[2]}\", f'boards//{board}', 0.5)\n",
    "            result = {0: 0, 1:-1, 2:1}[winner]\n",
    "            result = {0: 0, 1:1, 2:-1}[winner]\n",
    "            new_row = pd.DataFrame({\"board\": board[:-4], \"starting\": True, \"C\": setup[0], \"totals\": setup[1],\n",
    "                                    \"selection\": setup[2], \"result\": result, \"reason\": reason}, index=[0])\n",
    "\n",
    "            df = pd.concat([df, new_row]).reset_index(drop = True)\n",
    "        \n",
    "        df.to_csv(f'MC_tests//results.csv', index = False)"
   ]
  },
  {
   "cell_type": "code",
   "execution_count": null,
   "id": "f37a1265",
   "metadata": {},
   "outputs": [],
   "source": [
    "def play_game(setup):\n",
    "    if setup[2]:\n",
    "        winner, reason = run_simulation(\"team41_A2\", \"team41_A1\", f'boards//{setup[0]}', setup[1])\n",
    "        result = {0: 0, 1:1, 2:-1}[winner]\n",
    "\n",
    "    else:\n",
    "        winner, reason = run_simulation(\"team41_A1\", \"team41_A2\", f'boards//{setup[0]}', setup[1])\n",
    "        result = {0: 0, 1:-1, 2:1}[winner]"
   ]
  },
  {
   "cell_type": "code",
   "execution_count": null,
   "id": "af3084a5",
   "metadata": {},
   "outputs": [],
   "source": [
    "opponents = [\"random_player\"]\n",
    "boards = os.listdir(\"boards\")\n",
    "times = [0.5]\n",
    "starting = [True, False]"
   ]
  },
  {
   "cell_type": "code",
   "execution_count": null,
   "id": "699c21e8",
   "metadata": {},
   "outputs": [],
   "source": [
    "testing = \"team41_A2\"\n",
    "df = pd.DataFrame(columns = [\"opponent\", \"board\", \"time\", \"starting\", \"result\", \"reason\"])\n",
    "counter = 0\n",
    "\n",
    "for setup in tqdm(list(itertools.product(boards, times, starting))):\n",
    "    if setup[2]:\n",
    "        winner, reason = run_simulation(\"team41_A2\", \"team41_A1\", f'boards//{setup[0]}', setup[1])\n",
    "        result = {0: 0, 1:1, 2:-1}[winner]\n",
    "\n",
    "    else:\n",
    "        winner, reason = run_simulation(\"team41_A1\", \"team41_A2\", f'boards//{setup[0]}', setup[1])\n",
    "        result = {0: 0, 1:-1, 2:1}[winner]\n",
    "\n",
    "    new_row = pd.DataFrame({\"opponent\":\"team41_A1\", \"board\": setup[0][:-4], \"time\": setup[1], \n",
    "                            \"starting\": setup[2], \"result\": result, \"reason\": reason}, index=[0])\n",
    "\n",
    "    df = pd.concat([df, new_row]).reset_index(drop = True)\n",
    "    \n",
    "    counter += 1\n",
    "    if counter % 10 == 0:\n",
    "        df.to_csv(f'testing results//A2vA1.csv', index = False)\n",
    "\n",
    "df.to_csv(f'testing results//A2vA1.csv', index = False)"
   ]
  }
 ],
 "metadata": {
  "kernelspec": {
   "display_name": "Python 3",
   "language": "python",
   "name": "python3"
  },
  "language_info": {
   "codemirror_mode": {
    "name": "ipython",
    "version": 3
   },
   "file_extension": ".py",
   "mimetype": "text/x-python",
   "name": "python",
   "nbconvert_exporter": "python",
   "pygments_lexer": "ipython3",
   "version": "3.8.8"
  }
 },
 "nbformat": 4,
 "nbformat_minor": 5
}
