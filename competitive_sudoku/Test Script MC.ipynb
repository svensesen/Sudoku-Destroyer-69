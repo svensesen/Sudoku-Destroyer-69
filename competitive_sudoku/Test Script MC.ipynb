{
 "cells": [
  {
   "cell_type": "code",
   "execution_count": 1,
   "id": "ba5034df",
   "metadata": {},
   "outputs": [],
   "source": [
    "from simulate_game import simulate_game\n",
    "from competitive_sudoku.sudoku import load_sudoku\n",
    "\n",
    "import importlib\n",
    "import sys\n",
    "import io\n",
    "import os\n",
    "import pandas as pd\n",
    "import matplotlib.pyplot as plt\n",
    "import itertools\n",
    "from datetime import datetime\n",
    "\n",
    "from tqdm import tqdm"
   ]
  },
  {
   "cell_type": "code",
   "execution_count": 2,
   "id": "5c8075f3",
   "metadata": {},
   "outputs": [],
   "source": [
    "# Winner 0 if it was a draw, 1 if player 1 won, 2 if player 2 won\n",
    "# Reason:\n",
    "# \"regular\" if it was played till the end\n",
    "# \"taboo\" if a taboo move was played\n",
    "# \"invalid\" if invalid move was played\n",
    "# \"illegal\" if illegal move was played\n",
    "# \"no move\" if no move was supplied\n",
    "\n",
    "\n",
    "def run_simulation(first_player: str, second_player: str, board_name: str, time: float) -> set:\n",
    "    player1 = importlib.import_module(first_player + '.sudokuai').SudokuAI()\n",
    "    player2 = importlib.import_module(second_player + '.sudokuai').SudokuAI()\n",
    "    player1.player_number = 1\n",
    "    player2.player_number = 2\n",
    "    \n",
    "    # We do not check for specific ai, just give it to all of them\n",
    "    player1.solve_sudoku_path = 'bin\\\\solve_sudoku.exe'\n",
    "    player2.solve_sudoku_path = 'bin\\\\solve_sudoku.exe'\n",
    "    \n",
    "    board = load_sudoku(board_name)\n",
    "    \n",
    "    # Note for future, we do not clean up files\n",
    "    \n",
    "    old_stdout = sys.stdout\n",
    "    sys.stdout = buffer = io.StringIO()\n",
    "    \n",
    "    simulate_game(board, player1, player2, solve_sudoku_path='bin\\\\solve_sudoku.exe', calculation_time=time)\n",
    "    \n",
    "    sys.stdout = old_stdout\n",
    "    result = buffer.getvalue()\n",
    "    \n",
    "    last_line = result.splitlines()[-1]\n",
    "    splitted_line = last_line.split(\".\")\n",
    "    \n",
    "    if len(splitted_line) == 2:\n",
    "        winner = {\"The game ends in a draw\": 0, \"Player 1 wins the game\":1, \n",
    "                  \"Player 2 wins the game\":2}[splitted_line[0]]\n",
    "        reason = \"regular\"\n",
    "    \n",
    "    else:\n",
    "        winner = {\" The game ends in a draw\": 0, \" Player 1 wins the game\":1, \n",
    "                  \" Player 2 wins the game\":2}[splitted_line[1]]\n",
    "        reason = {\"taboo move\": \"taboo\", \"valid move\": \"invalid\", \"legal move\": \"illegal\", \n",
    "                  \"s supplied\": \"no move\"}[splitted_line[0][-10:]]\n",
    "    \n",
    "    return winner, reason"
   ]
  },
  {
   "cell_type": "code",
   "execution_count": 3,
   "id": "cac2d8d6",
   "metadata": {},
   "outputs": [],
   "source": [
    "from distutils.dir_util import copy_tree\n",
    "\n",
    "def create_new_file(C, t, s):\n",
    "\n",
    "    copy_tree(\"MC_tests//team41_A3_MC_2_False_max\", f\"MC_tests//team41_A3_MC_{C}_{t}_{s}\")\n",
    "    os.remove(f\"MC_tests//team41_A3_MC_{C}_{t}_{s}//sudokuai.py\")\n",
    "\n",
    "    with open(\"MC_tests//team41_A3_MC_2_False_max//sudokuai.py\") as old_file:\n",
    "        with open(f\"MC_tests//team41_A3_MC_{C}_{t}_{s}//sudokuai.py\", \"w\") as new_file:\n",
    "            for line in old_file:\n",
    "                if line == \"global_C = 2\\n\":\n",
    "                    new_file.write(f\"global_C = {C}\\n\")\n",
    "\n",
    "                elif line == \"global_total = False\\n\":\n",
    "                    new_file.write(f\"global_total = {t}\\n\")\n",
    "\n",
    "                elif line == \"global_selection = \\\"max\\\"\\n\":\n",
    "                    new_file.write(f\"global_selection = \\\"{s}\\\"\\n\")\n",
    "\n",
    "                else:\n",
    "                    new_file.write(line)"
   ]
  },
  {
   "cell_type": "code",
   "execution_count": 4,
   "id": "c772d1d6",
   "metadata": {},
   "outputs": [],
   "source": [
    "Cs = [0, 2, 5, 10]\n",
    "totals = [False, True]\n",
    "selections = [\"max\", \"robust\"]"
   ]
  },
  {
   "cell_type": "code",
   "execution_count": null,
   "id": "b8e808ce",
   "metadata": {},
   "outputs": [],
   "source": [
    "boards = os.listdir(\"boards\")\n",
    "df = pd.DataFrame(columns = [\"board\", \"starting\", \"C\", \"totals\", \"selection\", \"result\", \"reason\"])\n",
    "\n",
    "for setup in tqdm(list(itertools.product(Cs, totals, selections))):\n",
    "    if setup != (2,False,\"max\"):\n",
    "        create_new_file(setup[0], setup[1], setup[2])\n",
    "        \n",
    "for board in tqdm(boards):\n",
    "    for setup in tqdm(list(itertools.product(Cs, totals, selections))):\n",
    "        current_time = datetime.now().strftime(\"%H:%M:%S\")\n",
    "        print(\"Current Time =\", current_time)\n",
    "\n",
    "        winner, reason = run_simulation(f\"MC_tests.team41_A3_MC_{setup[0]}_{setup[1]}_{setup[2]}\",\"random_player\", f'boards//{board}', 0.5)\n",
    "        result = {0: 0, 1:1, 2:-1}[winner]\n",
    "        new_row = pd.DataFrame({\"board\": board[:-4], \"starting\": True, \"C\": setup[0], \"totals\": setup[1],\n",
    "                                \"selection\": setup[2], \"result\": result, \"reason\": reason}, index=[0])\n",
    "\n",
    "        df = pd.concat([df, new_row]).reset_index(drop = True)\n",
    "\n",
    "\n",
    "        current_time = datetime.now().strftime(\"%H:%M:%S\")\n",
    "        print(\"Current Time =\", current_time)\n",
    "\n",
    "        winner, reason = run_simulation(\"random_player\", f\"MC_tests.team41_A3_MC_{setup[0]}_{setup[1]}_{setup[2]}\", f'boards//{board}', 0.5)\n",
    "        result = {0: 0, 1:-1, 2:1}[winner]\n",
    "        result = {0: 0, 1:1, 2:-1}[winner]\n",
    "        new_row = pd.DataFrame({\"board\": board[:-4], \"starting\": True, \"C\": setup[0], \"totals\": setup[1],\n",
    "                                \"selection\": setup[2], \"result\": result, \"reason\": reason}, index=[0])\n",
    "\n",
    "        df = pd.concat([df, new_row]).reset_index(drop = True)\n",
    "\n",
    "        df.to_csv(f'MC_tests//results4.csv', index = False)"
   ]
  },
  {
   "cell_type": "code",
   "execution_count": null,
   "id": "3f571a04",
   "metadata": {},
   "outputs": [
    {
     "name": "stderr",
     "output_type": "stream",
     "text": [
      "100%|██████████████████████████████████████████████████████████████████████████████████| 16/16 [00:00<00:00, 92.79it/s]\n",
      "  0%|                                                                                           | 0/12 [00:00<?, ?it/s]\n",
      "  0%|                                                                                           | 0/16 [00:00<?, ?it/s]\u001b[A"
     ]
    },
    {
     "name": "stdout",
     "output_type": "stream",
     "text": [
      "Current Time = 15:49:56\n",
      "Current Time = 15:50:45\n"
     ]
    },
    {
     "name": "stderr",
     "output_type": "stream",
     "text": [
      "\n",
      "  6%|█████▏                                                                             | 1/16 [01:34<23:44, 94.96s/it]\u001b[A"
     ]
    },
    {
     "name": "stdout",
     "output_type": "stream",
     "text": [
      "Current Time = 15:51:31\n",
      "Current Time = 15:52:21\n"
     ]
    },
    {
     "name": "stderr",
     "output_type": "stream",
     "text": [
      "\n",
      " 12%|██████████▍                                                                        | 2/16 [03:12<22:34, 96.74s/it]\u001b[A"
     ]
    },
    {
     "name": "stdout",
     "output_type": "stream",
     "text": [
      "Current Time = 15:53:09\n",
      "Current Time = 15:53:55\n"
     ]
    },
    {
     "name": "stderr",
     "output_type": "stream",
     "text": [
      "\n",
      " 19%|███████████████▌                                                                   | 3/16 [04:47<20:44, 95.73s/it]\u001b[A"
     ]
    },
    {
     "name": "stdout",
     "output_type": "stream",
     "text": [
      "Current Time = 15:54:43\n"
     ]
    }
   ],
   "source": [
    "df = pd.DataFrame(columns = [\"board\", \"starting\", \"C\", \"totals\", \"selection\", \"result\", \"reason\"])\n",
    "boards = os.listdir(\"boards\")\n",
    "\n",
    "for setup in tqdm(list(itertools.product(Cs, totals, selections))):\n",
    "    if setup != (2,False,\"max\"):\n",
    "        create_new_file(setup[0], setup[1], setup[2])\n",
    "    \n",
    "for i in tqdm(range(len(boards))):\n",
    "    if i>6:\n",
    "        board = boards[i]\n",
    "        for setup in tqdm(list(itertools.product(Cs, totals, selections))):\n",
    "            current_time = datetime.now().strftime(\"%H:%M:%S\")\n",
    "            print(\"Current Time =\", current_time)\n",
    "\n",
    "            winner, reason = run_simulation(f\"MC_tests.team41_A3_MC_{setup[0]}_{setup[1]}_{setup[2]}\",\"random_player\", f'boards//{board}', 0.5)\n",
    "            result = {0: 0, 1:1, 2:-1}[winner]\n",
    "            new_row = pd.DataFrame({\"board\": board[:-4], \"starting\": True, \"C\": setup[0], \"totals\": setup[1],\n",
    "                                    \"selection\": setup[2], \"result\": result, \"reason\": reason}, index=[0])\n",
    "\n",
    "            df = pd.concat([df, new_row]).reset_index(drop = True)\n",
    "\n",
    "\n",
    "            current_time = datetime.now().strftime(\"%H:%M:%S\")\n",
    "            print(\"Current Time =\", current_time)\n",
    "\n",
    "            winner, reason = run_simulation(\"random_player\", f\"MC_tests.team41_A3_MC_{setup[0]}_{setup[1]}_{setup[2]}\", f'boards//{board}', 0.5)\n",
    "            result = {0: 0, 1:-1, 2:1}[winner]\n",
    "            result = {0: 0, 1:1, 2:-1}[winner]\n",
    "            new_row = pd.DataFrame({\"board\": board[:-4], \"starting\": True, \"C\": setup[0], \"totals\": setup[1],\n",
    "                                    \"selection\": setup[2], \"result\": result, \"reason\": reason}, index=[0])\n",
    "\n",
    "            df = pd.concat([df, new_row]).reset_index(drop = True)\n",
    "\n",
    "            df.to_csv(f'MC_tests//results5.csv', index = False)"
   ]
  },
  {
   "cell_type": "code",
   "execution_count": null,
   "id": "27c2cf49",
   "metadata": {},
   "outputs": [],
   "source": [
    "df = pd.read_csv(\"MC_tests\\\\results3.csv\")\n",
    "df2 = pd.read_csv(\"MC_tests\\\\results5.csv\")"
   ]
  },
  {
   "cell_type": "code",
   "execution_count": null,
   "id": "c7d492b0",
   "metadata": {},
   "outputs": [],
   "source": [
    "wi = round(len(df[df[\"result\"]==1])/len(df),2)\n",
    "print(f\"Overall Winrate: {wi}\")\n",
    "\n",
    "cx = []\n",
    "cy = []\n",
    "for c in [0, 2, 5, 10]:\n",
    "    cx.append(str(c))\n",
    "    cy.append(round(len(df[(df[\"C\"]==c) & (df[\"result\"]==1)])/len(df[df[\"C\"]==c]),2))\n",
    "    \n",
    "tox = []\n",
    "toy = []\n",
    "for to in [True, False]:\n",
    "    tox.append({True: \"Totals\", False: \"Wins\"}[to])\n",
    "    toy.append(round(len(df[(df[\"totals\"]==to) & (df[\"result\"]==1)])/len(df[df[\"totals\"]==to]),2))\n",
    "    \n",
    "sex = []\n",
    "sey = []\n",
    "for se in [\"max\", \"robust\"]:\n",
    "    sex.append(se)\n",
    "    sey.append(round(len(df[(df[\"selection\"]==se) & (df[\"result\"]==1)])/len(df[df[\"selection\"]==se]),2))\n",
    "    \n",
    "six = []\n",
    "siy = []\n",
    "for si in [\"2x2\", \"2x3\", \"3x3\", \"3x4\", \"4x4\"]:\n",
    "    six.append(si)\n",
    "    siy.append(round(len(df[(df[\"board\"].str.contains(si)) & (df[\"result\"]==1)])/len(df[df[\"board\"].str.contains(si)]),2))"
   ]
  },
  {
   "cell_type": "code",
   "execution_count": null,
   "id": "fe52afb6",
   "metadata": {},
   "outputs": [],
   "source": [
    "fig, axs = plt.subplots(1, 4, sharey = True, figsize=(20,5))\n",
    "fig.suptitle(\"Winrates Using Different Settings\", fontsize=25)\n",
    "\n",
    "axs[0].bar(cx, cy, color = \"#6BC319\")\n",
    "axs[0].set_xlabel(\"C\", fontsize=18)\n",
    "axs[0].set_ylabel(\"Winrate\", fontsize=18)\n",
    "axs[0].tick_params(axis=\"both\", labelsize=14)\n",
    "\n",
    "axs[0].set_ylim(top=0.6)\n",
    "\n",
    "axs[1].bar(tox, toy, color = \"#6BC319\")\n",
    "axs[1].set_xlabel(\"Total Values\", fontsize=18)\n",
    "axs[1].tick_params(axis=\"both\", labelsize=14)\n",
    "\n",
    "axs[2].bar(sex, sey, color = \"#6BC319\")\n",
    "axs[2].set_xlabel(\"Selection Method\", fontsize=18)\n",
    "axs[2].tick_params(axis=\"both\", labelsize=14)\n",
    "\n",
    "axs[3].bar(six, siy, color = \"#6BC319\")\n",
    "axs[3].set_xlabel(\"Boardsize\", fontsize=18)\n",
    "axs[3].tick_params(axis=\"both\", labelsize=14)\n",
    "\n",
    "for i in range(4):\n",
    "    for p in axs[i].patches:\n",
    "        axs[i].annotate(str(p.get_height()), (p.get_x() + 0.25, p.get_height() + 0.01), fontsize=14)\n",
    "\n",
    "box_style=dict(boxstyle='round', facecolor='wheat', alpha=0.5)\n",
    "plt.text(-18.55, 0.55, \"n = 96 per possibility\",{'color':'black','weight':'heavy','size':12},bbox=box_style)\n",
    "plt.text(-12.3, 0.55, \"n = 192 per possibility\",{'color':'black','weight':'heavy','size':12},bbox=box_style)   \n",
    "plt.text(-6.5, 0.55, \"n = 192 per selection method\",{'color':'black','weight':'heavy','size':12},bbox=box_style)   \n",
    "plt.text(-0.2, 0.56, \"n = 64 per board n = 128 for 3x3\",{'color':'black','weight':'heavy','size':11},bbox=box_style)\n",
    " \n",
    "\n",
    "plt.savefig(f\"MC_tests\\\\MC_test_result.png\")"
   ]
  }
 ],
 "metadata": {
  "kernelspec": {
   "display_name": "Python 3",
   "language": "python",
   "name": "python3"
  },
  "language_info": {
   "codemirror_mode": {
    "name": "ipython",
    "version": 3
   },
   "file_extension": ".py",
   "mimetype": "text/x-python",
   "name": "python",
   "nbconvert_exporter": "python",
   "pygments_lexer": "ipython3",
   "version": "3.8.8"
  }
 },
 "nbformat": 4,
 "nbformat_minor": 5
}
