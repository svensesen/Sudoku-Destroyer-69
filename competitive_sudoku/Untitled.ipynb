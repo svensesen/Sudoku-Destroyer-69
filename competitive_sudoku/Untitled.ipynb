{
 "cells": [
  {
   "cell_type": "code",
   "execution_count": 1,
   "id": "45558336",
   "metadata": {},
   "outputs": [],
   "source": [
    "import sys\n",
    "import io\n",
    "import importlib\n",
    "\n",
    "from simulate_game import simulate_game\n",
    "from competitive_sudoku.sudoku import GameState, SudokuBoard, load_sudoku"
   ]
  },
  {
   "cell_type": "code",
   "execution_count": 2,
   "id": "4ade4a7e",
   "metadata": {},
   "outputs": [],
   "source": [
    "#returns 0 if it was a draw, 1 if player 1 won, 2 if player 2 won\n",
    "def run_simulation(first_player: str, second_player: str, time: float, board_name: str):\n",
    "    module1 = importlib.import_module(first_player + '.sudokuai')\n",
    "    module2 = importlib.import_module(second_player + '.sudokuai')\n",
    "    player1 = module1.SudokuAI()\n",
    "    player2 = module2.SudokuAI()\n",
    "    player1.player_number = 1\n",
    "    player2.player_number = 2\n",
    "    \n",
    "    # We do not check for specific ai, just give it to all of them\n",
    "    player1.solve_sudoku_path = 'bin\\\\solve_sudoku.exe'\n",
    "    player2.solve_sudoku_path = 'bin\\\\solve_sudoku.exe'\n",
    "    \n",
    "    board = load_sudoku(board_name)\n",
    "    \n",
    "    # Note for future, we do not clean up files\n",
    "    \n",
    "    old_stdout = sys.stdout\n",
    "    sys.stdout = buffer = io.StringIO()\n",
    "    \n",
    "    simulate_game(board, player1, player2, solve_sudoku_path='bin\\\\solve_sudoku.exe', calculation_time=time)\n",
    "    \n",
    "    sys.stdout = old_stdout\n",
    "    result = buffer.getvalue()\n",
    "    \n",
    "    dicto = {\"he game ends in a draw.\": 0, \"Player 1 wins the game.\":1, \"Player 2 wins the game.\":2}\n",
    "    \n",
    "    if result[-24:-1] in dicto:\n",
    "        winner = dicto[result[-24:-1]]\n",
    "    \n",
    "    else:\n",
    "        print(result[-40:-1])\n",
    "        winner = -1\n",
    "    \n",
    "    return winner"
   ]
  },
  {
   "cell_type": "markdown",
   "id": "de1c6013",
   "metadata": {},
   "source": [
    "### Random player, empty-3x3.txt, varying time:"
   ]
  },
  {
   "cell_type": "code",
   "execution_count": 3,
   "id": "95623502",
   "metadata": {},
   "outputs": [
    {
     "name": "stdout",
     "output_type": "stream",
     "text": [
      "0.5 0 1 1\n",
      "0.5 1 2 2\n",
      "0.5 2 2 1\n",
      "0.5 3 2 2\n",
      "0.5 4 2 1\n",
      "1 0 2 1\n",
      "1 1 2 1\n",
      "1 2 1 1\n",
      "1 3 2 1\n",
      "1 4 2 1\n",
      "5 0 1 1\n",
      "5 1 1 1\n",
      "5 2 1 2\n",
      "5 3 2 2\n",
      "5 4 1 1\n",
      "[[1, 1, 2, 2, 2, 1, 2, 2, 2, 1], [2, 1, 2, 1, 1, 1, 2, 1, 2, 1], [1, 1, 1, 1, 1, 2, 2, 2, 1, 1]]\n"
     ]
    }
   ],
   "source": [
    "result3 = []\n",
    "\n",
    "player1 = \"team41_A1\"\n",
    "player2 = \"random_player\"\n",
    "for time in [0.5,1,5]:\n",
    "    sub_result = []\n",
    "    for i in range(5):\n",
    "        sub_result.append(run_simulation(player1, player2, time, \"boards/empty-3x3.txt\"))\n",
    "        sub_result.append(run_simulation(player2, player1, time, \"boards/empty-3x3.txt\"))\n",
    "        print(time,i, sub_result[-2], sub_result[-1])\n",
    "    \n",
    "    result3.append(sub_result)\n",
    "\n",
    "print(result3)"
   ]
  }
 ],
 "metadata": {
  "kernelspec": {
   "display_name": "Python 3",
   "language": "python",
   "name": "python3"
  },
  "language_info": {
   "codemirror_mode": {
    "name": "ipython",
    "version": 3
   },
   "file_extension": ".py",
   "mimetype": "text/x-python",
   "name": "python",
   "nbconvert_exporter": "python",
   "pygments_lexer": "ipython3",
   "version": "3.8.8"
  }
 },
 "nbformat": 4,
 "nbformat_minor": 5
}
