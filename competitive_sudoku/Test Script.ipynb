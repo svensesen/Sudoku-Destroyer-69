{
 "cells": [
  {
   "cell_type": "code",
   "execution_count": 1,
   "id": "fe67f765",
   "metadata": {},
   "outputs": [],
   "source": [
    "from simulate_game import simulate_game\n",
    "from competitive_sudoku.sudoku import load_sudoku\n",
    "\n",
    "import importlib\n",
    "import sys\n",
    "import io\n",
    "import os\n",
    "import pandas as pd\n",
    "import itertools\n",
    "\n",
    "from tqdm import tqdm"
   ]
  },
  {
   "cell_type": "code",
   "execution_count": 2,
   "id": "31802062",
   "metadata": {},
   "outputs": [],
   "source": [
    "# Winner 0 if it was a draw, 1 if player 1 won, 2 if player 2 won\n",
    "# Reason:\n",
    "# \"regular\" if it was played till the end\n",
    "# \"taboo\" if a taboo move was played\n",
    "# \"invalid\" if invalid move was played\n",
    "# \"illegal\" if illegal move was played\n",
    "# \"no move\" if no move was supplied\n",
    "\n",
    "\n",
    "def run_simulation(first_player: str, second_player: str, board_name: str, time: float) -> set:\n",
    "    player1 = importlib.import_module(first_player + '.sudokuai').SudokuAI()\n",
    "    player2 = importlib.import_module(second_player + '.sudokuai').SudokuAI()\n",
    "    player1.player_number = 1\n",
    "    player2.player_number = 2\n",
    "    \n",
    "    # We do not check for specific ai, just give it to all of them\n",
    "    player1.solve_sudoku_path = 'bin\\\\solve_sudoku.exe'\n",
    "    player2.solve_sudoku_path = 'bin\\\\solve_sudoku.exe'\n",
    "    \n",
    "    board = load_sudoku(board_name)\n",
    "    \n",
    "    # Note for future, we do not clean up files\n",
    "    \n",
    "    old_stdout = sys.stdout\n",
    "    sys.stdout = buffer = io.StringIO()\n",
    "    \n",
    "    simulate_game(board, player1, player2, solve_sudoku_path='bin\\\\solve_sudoku.exe', calculation_time=time)\n",
    "    \n",
    "    sys.stdout = old_stdout\n",
    "    result = buffer.getvalue()\n",
    "    \n",
    "    last_line = result.splitlines()[-1]\n",
    "    splitted_line = last_line.split(\".\")\n",
    "    \n",
    "    if len(splitted_line) == 2:\n",
    "        winner = {\"The game ends in a draw\": 0, \"Player 1 wins the game\":1, \n",
    "                  \"Player 2 wins the game\":2}[splitted_line[0]]\n",
    "        reason = \"regular\"\n",
    "    \n",
    "    else:\n",
    "        winner = {\" The game ends in a draw\": 0, \" Player 1 wins the game\":1, \n",
    "                  \" Player 2 wins the game\":2}[splitted_line[1]]\n",
    "        reason = {\"taboo move\": \"taboo\", \"valid move\": \"invalid\", \"legal move\": \"illegal\", \n",
    "                  \"s supplied\": \"no move\"}[splitted_line[0][-10:]]\n",
    "    \n",
    "    return winner, reason"
   ]
  },
  {
   "cell_type": "code",
   "execution_count": 3,
   "id": "54b92fd3",
   "metadata": {},
   "outputs": [],
   "source": [
    "opponents = [\"random_player\", \"greedy_player\"]\n",
    "boards = os.listdir(\"boards\")\n",
    "times = [0.1, 0.5, 1, 5]\n",
    "starting = [True, False]"
   ]
  },
  {
   "cell_type": "code",
   "execution_count": 4,
   "id": "e67fd396",
   "metadata": {},
   "outputs": [
    {
     "name": "stderr",
     "output_type": "stream",
     "text": [
      "100%|██████████████████████████████████████████████████████████████████████████████| 192/192 [2:31:04<00:00, 47.21s/it]\n"
     ]
    }
   ],
   "source": [
    "testing = \"team41_A1\"\n",
    "df = pd.DataFrame(columns = [\"opponent\", \"board\", \"time\", \"starting\", \"result\", \"reason\"])\n",
    "counter = 0\n",
    "\n",
    "for setup in tqdm(list(itertools.product(opponents, boards, times, starting))):\n",
    "    if setup[3]:\n",
    "        winner, reason = run_simulation(testing, setup[0], f'boards//{setup[1]}', setup[2])\n",
    "        result = {0: 0, 1:1, 2:-1}[winner]\n",
    "    \n",
    "    else:\n",
    "        winner, reason = run_simulation(setup[0], testing, f'boards//{setup[1]}', setup[2])\n",
    "        result = {0: 0, 1:-1, 2:1}[winner]\n",
    "    \n",
    "    new_row = pd.DataFrame({\"opponent\":setup[0][:-7], \"board\": setup[1][:-4], \"time\": setup[2], \n",
    "                            \"starting\": setup[3], \"result\": 1, \"reason\": \"regular\"}, index=[0])\n",
    "    \n",
    "    df = pd.concat([df, new_row]).reset_index(drop = True)\n",
    "    \n",
    "    counter += 1\n",
    "    if counter % 10 == 0:\n",
    "        df.to_csv(f'testing results//{testing}.csv', index = False)\n",
    "\n",
    "df.to_csv(f'testing results//{testing}.csv', index = False)"
   ]
  },
  {
   "cell_type": "code",
   "execution_count": 11,
   "id": "189a05e9",
   "metadata": {},
   "outputs": [
    {
     "name": "stdout",
     "output_type": "stream",
     "text": [
      "(1, 'regular')\n"
     ]
    }
   ],
   "source": [
    "result = run_simulation(\"team41_A2_testing_Ricc\", \"greedy_player\", \"boards\\\\easy-3x3.txt\", 0.5)\n",
    "print(result)"
   ]
  },
  {
   "cell_type": "code",
   "execution_count": 10,
   "id": "382cae60",
   "metadata": {},
   "outputs": [
    {
     "name": "stdout",
     "output_type": "stream",
     "text": [
      "(2, 'regular')\n"
     ]
    }
   ],
   "source": [
    "result = run_simulation(\"random_player\", \"greedy_player\",\"boards\\\\easy-3x3.txt\", 1)\n",
    "print(result)"
   ]
  }
 ],
 "metadata": {
  "kernelspec": {
   "display_name": "Python 3",
   "language": "python",
   "name": "python3"
  },
  "language_info": {
   "codemirror_mode": {
    "name": "ipython",
    "version": 3
   },
   "file_extension": ".py",
   "mimetype": "text/x-python",
   "name": "python",
   "nbconvert_exporter": "python",
   "pygments_lexer": "ipython3",
   "version": "3.8.8"
  }
 },
 "nbformat": 4,
 "nbformat_minor": 5
}
