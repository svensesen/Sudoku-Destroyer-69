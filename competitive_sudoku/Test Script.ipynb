{
 "cells": [
  {
   "cell_type": "code",
   "execution_count": 1,
   "id": "fe67f765",
   "metadata": {},
   "outputs": [],
   "source": [
    "from simulate_game import simulate_game\n",
    "from competitive_sudoku.sudoku import load_sudoku\n",
    "\n",
    "import importlib\n",
    "import sys\n",
    "import io\n",
    "import os\n",
    "import pandas as pd\n",
    "import matplotlib.pyplot as plt\n",
    "import itertools\n",
    "\n",
    "from tqdm import tqdm"
   ]
  },
  {
   "cell_type": "code",
   "execution_count": 2,
   "id": "31802062",
   "metadata": {},
   "outputs": [],
   "source": [
    "# Winner 0 if it was a draw, 1 if player 1 won, 2 if player 2 won\n",
    "# Reason:\n",
    "# \"regular\" if it was played till the end\n",
    "# \"taboo\" if a taboo move was played\n",
    "# \"invalid\" if invalid move was played\n",
    "# \"illegal\" if illegal move was played\n",
    "# \"no move\" if no move was supplied\n",
    "\n",
    "\n",
    "def run_simulation(first_player: str, second_player: str, board_name: str, time: float) -> set:\n",
    "    player1 = importlib.import_module(first_player + '.sudokuai').SudokuAI()\n",
    "    player2 = importlib.import_module(second_player + '.sudokuai').SudokuAI()\n",
    "    player1.player_number = 1\n",
    "    player2.player_number = 2\n",
    "    \n",
    "    # We do not check for specific ai, just give it to all of them\n",
    "    player1.solve_sudoku_path = 'bin\\\\solve_sudoku.exe'\n",
    "    player2.solve_sudoku_path = 'bin\\\\solve_sudoku.exe'\n",
    "    \n",
    "    board = load_sudoku(board_name)\n",
    "    \n",
    "    # Note for future, we do not clean up files\n",
    "    \n",
    "    old_stdout = sys.stdout\n",
    "    sys.stdout = buffer = io.StringIO()\n",
    "    \n",
    "    simulate_game(board, player1, player2, solve_sudoku_path='bin\\\\solve_sudoku.exe', calculation_time=time)\n",
    "    \n",
    "    sys.stdout = old_stdout\n",
    "    result = buffer.getvalue()\n",
    "    \n",
    "    last_line = result.splitlines()[-1]\n",
    "    splitted_line = last_line.split(\".\")\n",
    "    \n",
    "    if len(splitted_line) == 2:\n",
    "        winner = {\"The game ends in a draw\": 0, \"Player 1 wins the game\":1, \n",
    "                  \"Player 2 wins the game\":2}[splitted_line[0]]\n",
    "        reason = \"regular\"\n",
    "    \n",
    "    else:\n",
    "        winner = {\" The game ends in a draw\": 0, \" Player 1 wins the game\":1, \n",
    "                  \" Player 2 wins the game\":2}[splitted_line[1]]\n",
    "        reason = {\"taboo move\": \"taboo\", \"valid move\": \"invalid\", \"legal move\": \"illegal\", \n",
    "                  \"s supplied\": \"no move\"}[splitted_line[0][-10:]]\n",
    "    \n",
    "    return winner, reason"
   ]
  },
  {
   "cell_type": "code",
   "execution_count": 3,
   "id": "54b92fd3",
   "metadata": {},
   "outputs": [],
   "source": [
    "opponents = [\"random_player\", \"greedy_player\"]\n",
    "boards = os.listdir(\"boards\")\n",
    "times = [0.1, 0.5, 1, 5]\n",
    "starting = [True, False]"
   ]
  },
  {
   "cell_type": "code",
   "execution_count": null,
   "id": "b79859f0",
   "metadata": {},
   "outputs": [],
   "source": [
    "# Play vs A1\n",
    "\n",
    "testing = \"team41_A2\"\n",
    "df = pd.DataFrame(columns = [\"opponent\", \"board\", \"time\", \"starting\", \"result\", \"reason\"])\n",
    "counter = 0\n",
    "\n",
    "for setup in tqdm(list(itertools.product(boards, times, starting))):\n",
    "    print(setup)\n",
    "    \n",
    "    if(counter >= 150):\n",
    "        if setup[2]:\n",
    "            winner, reason = run_simulation(\"team41_A2\", \"team41_A1\", f'boards//{setup[0]}', setup[1])\n",
    "            result = {0: 0, 1:1, 2:-1}[winner]\n",
    "    \n",
    "        else:\n",
    "            winner, reason = run_simulation(\"team41_A1\", \"team41_A2\", f'boards//{setup[0]}', setup[1])\n",
    "            result = {0: 0, 1:-1, 2:1}[winner]\n",
    "    \n",
    "        new_row = pd.DataFrame({\"opponent\":\"team41_A1\", \"board\": setup[0][:-4], \"time\": setup[1], \n",
    "                                \"starting\": setup[2], \"result\": result, \"reason\": reason}, index=[0])\n",
    "\n",
    "        df = pd.concat([df, new_row]).reset_index(drop = True)\n",
    "    \n",
    "    counter += 1\n",
    "    if counter % 10 == 0:\n",
    "        df.to_csv(f'testing results//A2vA1.csv', index = False)\n",
    "\n",
    "df.to_csv(f'testing results//A2vA1.csv', index = False)"
   ]
  },
  {
   "cell_type": "code",
   "execution_count": null,
   "id": "9a2c9e49",
   "metadata": {},
   "outputs": [
    {
     "name": "stderr",
     "output_type": "stream",
     "text": [
      "\r",
      "  0%|                                                                                          | 0/192 [00:00<?, ?it/s]"
     ]
    },
    {
     "name": "stdout",
     "output_type": "stream",
     "text": [
      "('random_player', 'easy-2x2.txt', 0.1, True)\n",
      "('random_player', 'easy-2x2.txt', 0.1, False)\n",
      "('random_player', 'easy-2x2.txt', 0.5, True)\n",
      "('random_player', 'easy-2x2.txt', 0.5, False)\n",
      "('random_player', 'easy-2x2.txt', 1, True)\n",
      "('random_player', 'easy-2x2.txt', 1, False)\n",
      "('random_player', 'easy-2x2.txt', 5, True)\n",
      "('random_player', 'easy-2x2.txt', 5, False)\n",
      "('random_player', 'easy-3x3.txt', 0.1, True)\n",
      "('random_player', 'easy-3x3.txt', 0.1, False)\n",
      "('random_player', 'easy-3x3.txt', 0.5, True)\n",
      "('random_player', 'easy-3x3.txt', 0.5, False)\n",
      "('random_player', 'easy-3x3.txt', 1, True)\n",
      "('random_player', 'easy-3x3.txt', 1, False)\n",
      "('random_player', 'easy-3x3.txt', 5, True)\n",
      "('random_player', 'easy-3x3.txt', 5, False)\n",
      "('random_player', 'empty-2x2.txt', 0.1, True)\n",
      "('random_player', 'empty-2x2.txt', 0.1, False)\n",
      "('random_player', 'empty-2x2.txt', 0.5, True)\n",
      "('random_player', 'empty-2x2.txt', 0.5, False)\n",
      "('random_player', 'empty-2x2.txt', 1, True)\n",
      "('random_player', 'empty-2x2.txt', 1, False)\n",
      "('random_player', 'empty-2x2.txt', 5, True)\n",
      "('random_player', 'empty-2x2.txt', 5, False)\n",
      "('random_player', 'empty-2x3.txt', 0.1, True)\n",
      "('random_player', 'empty-2x3.txt', 0.1, False)\n",
      "('random_player', 'empty-2x3.txt', 0.5, True)\n",
      "('random_player', 'empty-2x3.txt', 0.5, False)\n",
      "('random_player', 'empty-2x3.txt', 1, True)\n",
      "('random_player', 'empty-2x3.txt', 1, False)\n",
      "('random_player', 'empty-2x3.txt', 5, True)\n",
      "('random_player', 'empty-2x3.txt', 5, False)\n",
      "('random_player', 'empty-3x3.txt', 0.1, True)\n",
      "('random_player', 'empty-3x3.txt', 0.1, False)\n",
      "('random_player', 'empty-3x3.txt', 0.5, True)\n",
      "('random_player', 'empty-3x3.txt', 0.5, False)\n",
      "('random_player', 'empty-3x3.txt', 1, True)\n",
      "('random_player', 'empty-3x3.txt', 1, False)\n",
      "('random_player', 'empty-3x3.txt', 5, True)\n",
      "('random_player', 'empty-3x3.txt', 5, False)\n",
      "('random_player', 'empty-3x4.txt', 0.1, True)\n",
      "('random_player', 'empty-3x4.txt', 0.1, False)\n",
      "('random_player', 'empty-3x4.txt', 0.5, True)\n",
      "('random_player', 'empty-3x4.txt', 0.5, False)\n",
      "('random_player', 'empty-3x4.txt', 1, True)\n",
      "('random_player', 'empty-3x4.txt', 1, False)\n",
      "('random_player', 'empty-3x4.txt', 5, True)\n",
      "('random_player', 'empty-3x4.txt', 5, False)\n",
      "('random_player', 'empty-4x4.txt', 0.1, True)\n",
      "('random_player', 'empty-4x4.txt', 0.1, False)\n",
      "('random_player', 'empty-4x4.txt', 0.5, True)\n",
      "('random_player', 'empty-4x4.txt', 0.5, False)\n",
      "('random_player', 'empty-4x4.txt', 1, True)\n",
      "('random_player', 'empty-4x4.txt', 1, False)\n",
      "('random_player', 'empty-4x4.txt', 5, True)\n",
      "('random_player', 'empty-4x4.txt', 5, False)\n",
      "('random_player', 'hard-3x3.txt', 0.1, True)\n",
      "('random_player', 'hard-3x3.txt', 0.1, False)\n",
      "('random_player', 'hard-3x3.txt', 0.5, True)\n",
      "('random_player', 'hard-3x3.txt', 0.5, False)\n",
      "('random_player', 'hard-3x3.txt', 1, True)\n",
      "('random_player', 'hard-3x3.txt', 1, False)\n",
      "('random_player', 'hard-3x3.txt', 5, True)\n",
      "('random_player', 'hard-3x3.txt', 5, False)\n",
      "('random_player', 'random-2x3.txt', 0.1, True)\n",
      "('random_player', 'random-2x3.txt', 0.1, False)\n",
      "('random_player', 'random-2x3.txt', 0.5, True)\n",
      "('random_player', 'random-2x3.txt', 0.5, False)\n",
      "('random_player', 'random-2x3.txt', 1, True)\n",
      "('random_player', 'random-2x3.txt', 1, False)\n",
      "('random_player', 'random-2x3.txt', 5, True)\n",
      "('random_player', 'random-2x3.txt', 5, False)\n",
      "('random_player', 'random-3x3.txt', 0.1, True)\n",
      "('random_player', 'random-3x3.txt', 0.1, False)\n",
      "('random_player', 'random-3x3.txt', 0.5, True)\n",
      "('random_player', 'random-3x3.txt', 0.5, False)\n",
      "('random_player', 'random-3x3.txt', 1, True)\n",
      "('random_player', 'random-3x3.txt', 1, False)\n",
      "('random_player', 'random-3x3.txt', 5, True)\n",
      "('random_player', 'random-3x3.txt', 5, False)\n",
      "('random_player', 'random-3x4.txt', 0.1, True)\n",
      "('random_player', 'random-3x4.txt', 0.1, False)\n",
      "('random_player', 'random-3x4.txt', 0.5, True)\n",
      "('random_player', 'random-3x4.txt', 0.5, False)\n",
      "('random_player', 'random-3x4.txt', 1, True)\n",
      "('random_player', 'random-3x4.txt', 1, False)\n",
      "('random_player', 'random-3x4.txt', 5, True)\n",
      "('random_player', 'random-3x4.txt', 5, False)\n",
      "('random_player', 'random-4x4.txt', 0.1, True)\n",
      "('random_player', 'random-4x4.txt', 0.1, False)\n",
      "('random_player', 'random-4x4.txt', 0.5, True)\n",
      "('random_player', 'random-4x4.txt', 0.5, False)\n",
      "('random_player', 'random-4x4.txt', 1, True)\n",
      "('random_player', 'random-4x4.txt', 1, False)\n",
      "('random_player', 'random-4x4.txt', 5, True)\n",
      "('random_player', 'random-4x4.txt', 5, False)\n",
      "('greedy_player', 'easy-2x2.txt', 0.1, True)\n",
      "('greedy_player', 'easy-2x2.txt', 0.1, False)\n",
      "('greedy_player', 'easy-2x2.txt', 0.5, True)\n",
      "('greedy_player', 'easy-2x2.txt', 0.5, False)\n",
      "('greedy_player', 'easy-2x2.txt', 1, True)\n",
      "('greedy_player', 'easy-2x2.txt', 1, False)\n",
      "('greedy_player', 'easy-2x2.txt', 5, True)\n",
      "('greedy_player', 'easy-2x2.txt', 5, False)\n",
      "('greedy_player', 'easy-3x3.txt', 0.1, True)\n",
      "('greedy_player', 'easy-3x3.txt', 0.1, False)\n",
      "('greedy_player', 'easy-3x3.txt', 0.5, True)\n",
      "('greedy_player', 'easy-3x3.txt', 0.5, False)\n",
      "('greedy_player', 'easy-3x3.txt', 1, True)\n",
      "('greedy_player', 'easy-3x3.txt', 1, False)\n",
      "('greedy_player', 'easy-3x3.txt', 5, True)\n",
      "('greedy_player', 'easy-3x3.txt', 5, False)\n",
      "('greedy_player', 'empty-2x2.txt', 0.1, True)\n",
      "('greedy_player', 'empty-2x2.txt', 0.1, False)\n",
      "('greedy_player', 'empty-2x2.txt', 0.5, True)\n",
      "('greedy_player', 'empty-2x2.txt', 0.5, False)\n",
      "('greedy_player', 'empty-2x2.txt', 1, True)\n",
      "('greedy_player', 'empty-2x2.txt', 1, False)\n",
      "('greedy_player', 'empty-2x2.txt', 5, True)\n",
      "('greedy_player', 'empty-2x2.txt', 5, False)\n",
      "('greedy_player', 'empty-2x3.txt', 0.1, True)\n",
      "('greedy_player', 'empty-2x3.txt', 0.1, False)\n",
      "('greedy_player', 'empty-2x3.txt', 0.5, True)\n",
      "('greedy_player', 'empty-2x3.txt', 0.5, False)\n",
      "('greedy_player', 'empty-2x3.txt', 1, True)\n",
      "('greedy_player', 'empty-2x3.txt', 1, False)\n",
      "('greedy_player', 'empty-2x3.txt', 5, True)\n",
      "('greedy_player', 'empty-2x3.txt', 5, False)\n",
      "('greedy_player', 'empty-3x3.txt', 0.1, True)\n",
      "('greedy_player', 'empty-3x3.txt', 0.1, False)\n",
      "('greedy_player', 'empty-3x3.txt', 0.5, True)\n",
      "('greedy_player', 'empty-3x3.txt', 0.5, False)\n",
      "('greedy_player', 'empty-3x3.txt', 1, True)\n",
      "('greedy_player', 'empty-3x3.txt', 1, False)\n",
      "('greedy_player', 'empty-3x3.txt', 5, True)\n",
      "('greedy_player', 'empty-3x3.txt', 5, False)\n",
      "('greedy_player', 'empty-3x4.txt', 0.1, True)\n",
      "('greedy_player', 'empty-3x4.txt', 0.1, False)\n",
      "('greedy_player', 'empty-3x4.txt', 0.5, True)\n",
      "('greedy_player', 'empty-3x4.txt', 0.5, False)\n",
      "('greedy_player', 'empty-3x4.txt', 1, True)\n",
      "('greedy_player', 'empty-3x4.txt', 1, False)\n",
      "('greedy_player', 'empty-3x4.txt', 5, True)\n",
      "('greedy_player', 'empty-3x4.txt', 5, False)\n",
      "('greedy_player', 'empty-4x4.txt', 0.1, True)\n",
      "('greedy_player', 'empty-4x4.txt', 0.1, False)\n",
      "('greedy_player', 'empty-4x4.txt', 0.5, True)\n",
      "('greedy_player', 'empty-4x4.txt', 0.5, False)\n",
      "('greedy_player', 'empty-4x4.txt', 1, True)\n",
      "('greedy_player', 'empty-4x4.txt', 1, False)\n",
      "('greedy_player', 'empty-4x4.txt', 5, True)\n"
     ]
    },
    {
     "name": "stderr",
     "output_type": "stream",
     "text": [
      "\r",
      " 79%|██████████████████████████████████████████████████████████████▉                 | 151/192 [29:24<07:59, 11.68s/it]"
     ]
    },
    {
     "name": "stdout",
     "output_type": "stream",
     "text": [
      "('greedy_player', 'empty-4x4.txt', 5, False)\n"
     ]
    },
    {
     "name": "stderr",
     "output_type": "stream",
     "text": [
      "\r",
      " 79%|███████████████████████████████████████████████████████████████▎                | 152/192 [54:39<17:10, 25.77s/it]"
     ]
    },
    {
     "name": "stdout",
     "output_type": "stream",
     "text": [
      "('greedy_player', 'hard-3x3.txt', 0.1, True)\n"
     ]
    },
    {
     "name": "stderr",
     "output_type": "stream",
     "text": [
      "\r",
      " 80%|███████████████████████████████████████████████████████████████▊                | 153/192 [54:39<16:32, 25.44s/it]"
     ]
    },
    {
     "name": "stdout",
     "output_type": "stream",
     "text": [
      "('greedy_player', 'hard-3x3.txt', 0.1, False)\n"
     ]
    },
    {
     "name": "stderr",
     "output_type": "stream",
     "text": [
      "\r",
      " 80%|████████████████████████████████████████████████████████████████▏               | 154/192 [54:39<15:48, 24.97s/it]"
     ]
    },
    {
     "name": "stdout",
     "output_type": "stream",
     "text": [
      "('greedy_player', 'hard-3x3.txt', 0.5, True)\n"
     ]
    },
    {
     "name": "stderr",
     "output_type": "stream",
     "text": [
      "\r",
      " 81%|████████████████████████████████████████████████████████████████▌               | 155/192 [55:30<15:48, 25.64s/it]"
     ]
    },
    {
     "name": "stdout",
     "output_type": "stream",
     "text": [
      "('greedy_player', 'hard-3x3.txt', 0.5, False)\n"
     ]
    },
    {
     "name": "stderr",
     "output_type": "stream",
     "text": [
      "\r",
      " 81%|█████████████████████████████████████████████████████████████████               | 156/192 [56:21<15:54, 26.52s/it]"
     ]
    },
    {
     "name": "stdout",
     "output_type": "stream",
     "text": [
      "('greedy_player', 'hard-3x3.txt', 1, True)\n"
     ]
    },
    {
     "name": "stderr",
     "output_type": "stream",
     "text": [
      "\r",
      " 82%|█████████████████████████████████████████████████████████████████▍              | 157/192 [57:49<17:13, 29.52s/it]"
     ]
    },
    {
     "name": "stdout",
     "output_type": "stream",
     "text": [
      "('greedy_player', 'hard-3x3.txt', 1, False)\n"
     ]
    },
    {
     "name": "stderr",
     "output_type": "stream",
     "text": [
      "\r",
      " 82%|█████████████████████████████████████████████████████████████████▊              | 158/192 [59:14<18:45, 33.09s/it]"
     ]
    },
    {
     "name": "stdout",
     "output_type": "stream",
     "text": [
      "('greedy_player', 'hard-3x3.txt', 5, True)\n"
     ]
    },
    {
     "name": "stderr",
     "output_type": "stream",
     "text": [
      "\r",
      " 83%|████████████████████████████████████████████████████████████████▌             | 159/192 [1:06:05<35:43, 64.96s/it]"
     ]
    },
    {
     "name": "stdout",
     "output_type": "stream",
     "text": [
      "('greedy_player', 'hard-3x3.txt', 5, False)\n"
     ]
    },
    {
     "name": "stderr",
     "output_type": "stream",
     "text": [
      "\r",
      " 83%|█████████████████████████████████████████████████████████████████             | 160/192 [1:12:24<52:41, 98.80s/it]"
     ]
    },
    {
     "name": "stdout",
     "output_type": "stream",
     "text": [
      "('greedy_player', 'random-2x3.txt', 0.1, True)\n"
     ]
    },
    {
     "name": "stderr",
     "output_type": "stream",
     "text": [
      "\r",
      " 84%|█████████████████████████████████████████████████████████████████▍            | 161/192 [1:12:24<44:16, 85.69s/it]"
     ]
    },
    {
     "name": "stdout",
     "output_type": "stream",
     "text": [
      "('greedy_player', 'random-2x3.txt', 0.1, False)\n"
     ]
    },
    {
     "name": "stderr",
     "output_type": "stream",
     "text": [
      "\r",
      " 84%|█████████████████████████████████████████████████████████████████▊            | 162/192 [1:12:25<36:00, 72.02s/it]"
     ]
    },
    {
     "name": "stdout",
     "output_type": "stream",
     "text": [
      "('greedy_player', 'random-2x3.txt', 0.5, True)\n"
     ]
    },
    {
     "name": "stderr",
     "output_type": "stream",
     "text": [
      "\r",
      " 85%|██████████████████████████████████████████████████████████████████▏           | 163/192 [1:12:35<29:14, 60.49s/it]"
     ]
    },
    {
     "name": "stdout",
     "output_type": "stream",
     "text": [
      "('greedy_player', 'random-2x3.txt', 0.5, False)\n"
     ]
    },
    {
     "name": "stderr",
     "output_type": "stream",
     "text": [
      "\r",
      " 85%|██████████████████████████████████████████████████████████████████▋           | 164/192 [1:12:45<23:16, 49.88s/it]"
     ]
    },
    {
     "name": "stdout",
     "output_type": "stream",
     "text": [
      "('greedy_player', 'random-2x3.txt', 1, True)\n"
     ]
    },
    {
     "name": "stderr",
     "output_type": "stream",
     "text": [
      "\r",
      " 86%|███████████████████████████████████████████████████████████████████           | 165/192 [1:13:05<19:20, 42.98s/it]"
     ]
    },
    {
     "name": "stdout",
     "output_type": "stream",
     "text": [
      "('greedy_player', 'random-2x3.txt', 1, False)\n"
     ]
    },
    {
     "name": "stderr",
     "output_type": "stream",
     "text": [
      "\r",
      " 86%|███████████████████████████████████████████████████████████████████▍          | 166/192 [1:13:24<16:02, 37.00s/it]"
     ]
    },
    {
     "name": "stdout",
     "output_type": "stream",
     "text": [
      "('greedy_player', 'random-2x3.txt', 5, True)\n"
     ]
    },
    {
     "name": "stderr",
     "output_type": "stream",
     "text": [
      "\r",
      " 87%|███████████████████████████████████████████████████████████████████▊          | 167/192 [1:15:00<21:50, 52.43s/it]"
     ]
    },
    {
     "name": "stdout",
     "output_type": "stream",
     "text": [
      "('greedy_player', 'random-2x3.txt', 5, False)\n"
     ]
    },
    {
     "name": "stderr",
     "output_type": "stream",
     "text": [
      "\r",
      " 88%|████████████████████████████████████████████████████████████████████▎         | 168/192 [1:16:31<25:10, 62.92s/it]"
     ]
    },
    {
     "name": "stdout",
     "output_type": "stream",
     "text": [
      "('greedy_player', 'random-3x3.txt', 0.1, True)\n"
     ]
    },
    {
     "name": "stderr",
     "output_type": "stream",
     "text": [
      "\r",
      " 88%|████████████████████████████████████████████████████████████████████▋         | 169/192 [1:16:31<17:24, 45.42s/it]"
     ]
    },
    {
     "name": "stdout",
     "output_type": "stream",
     "text": [
      "('greedy_player', 'random-3x3.txt', 0.1, False)\n"
     ]
    },
    {
     "name": "stderr",
     "output_type": "stream",
     "text": [
      "\r",
      " 89%|█████████████████████████████████████████████████████████████████████         | 170/192 [1:16:31<11:57, 32.59s/it]"
     ]
    },
    {
     "name": "stdout",
     "output_type": "stream",
     "text": [
      "('greedy_player', 'random-3x3.txt', 0.5, True)\n"
     ]
    },
    {
     "name": "stderr",
     "output_type": "stream",
     "text": [
      "\r",
      " 89%|█████████████████████████████████████████████████████████████████████▍        | 171/192 [1:16:58<10:49, 30.95s/it]"
     ]
    },
    {
     "name": "stdout",
     "output_type": "stream",
     "text": [
      "('greedy_player', 'random-3x3.txt', 0.5, False)\n"
     ]
    },
    {
     "name": "stderr",
     "output_type": "stream",
     "text": [
      "\r",
      " 90%|█████████████████████████████████████████████████████████████████████▉        | 172/192 [1:17:24<09:48, 29.44s/it]"
     ]
    },
    {
     "name": "stdout",
     "output_type": "stream",
     "text": [
      "('greedy_player', 'random-3x3.txt', 1, True)\n"
     ]
    },
    {
     "name": "stderr",
     "output_type": "stream",
     "text": [
      "\r",
      " 90%|██████████████████████████████████████████████████████████████████████▎       | 173/192 [1:18:10<10:52, 34.34s/it]"
     ]
    },
    {
     "name": "stdout",
     "output_type": "stream",
     "text": [
      "('greedy_player', 'random-3x3.txt', 1, False)\n"
     ]
    },
    {
     "name": "stderr",
     "output_type": "stream",
     "text": [
      "\r",
      " 91%|██████████████████████████████████████████████████████████████████████▋       | 174/192 [1:18:58<11:31, 38.43s/it]"
     ]
    },
    {
     "name": "stdout",
     "output_type": "stream",
     "text": [
      "('greedy_player', 'random-3x3.txt', 5, True)\n"
     ]
    },
    {
     "name": "stderr",
     "output_type": "stream",
     "text": [
      "\r",
      " 91%|███████████████████████████████████████████████████████████████████████       | 175/192 [1:22:56<27:39, 97.60s/it]"
     ]
    },
    {
     "name": "stdout",
     "output_type": "stream",
     "text": [
      "('greedy_player', 'random-3x3.txt', 5, False)\n"
     ]
    },
    {
     "name": "stderr",
     "output_type": "stream",
     "text": [
      "\r",
      " 92%|██████████████████████████████████████████████████████████████████████▌      | 176/192 [1:26:38<35:56, 134.77s/it]"
     ]
    },
    {
     "name": "stdout",
     "output_type": "stream",
     "text": [
      "('greedy_player', 'random-3x4.txt', 0.1, True)\n"
     ]
    },
    {
     "name": "stderr",
     "output_type": "stream",
     "text": [
      "\r",
      " 92%|███████████████████████████████████████████████████████████████████████▉      | 177/192 [1:26:38<23:39, 94.62s/it]"
     ]
    },
    {
     "name": "stdout",
     "output_type": "stream",
     "text": [
      "('greedy_player', 'random-3x4.txt', 0.1, False)\n"
     ]
    },
    {
     "name": "stderr",
     "output_type": "stream",
     "text": [
      "\r",
      " 93%|████████████████████████████████████████████████████████████████████████▎     | 178/192 [1:26:39<15:29, 66.39s/it]"
     ]
    },
    {
     "name": "stdout",
     "output_type": "stream",
     "text": [
      "('greedy_player', 'random-3x4.txt', 0.5, True)\n"
     ]
    },
    {
     "name": "stderr",
     "output_type": "stream",
     "text": [
      "\r",
      " 93%|████████████████████████████████████████████████████████████████████████▋     | 179/192 [1:27:27<13:13, 61.02s/it]"
     ]
    },
    {
     "name": "stdout",
     "output_type": "stream",
     "text": [
      "('greedy_player', 'random-3x4.txt', 0.5, False)\n"
     ]
    },
    {
     "name": "stderr",
     "output_type": "stream",
     "text": [
      "\r",
      " 94%|█████████████████████████████████████████████████████████████████████████▏    | 180/192 [1:28:14<11:22, 56.84s/it]"
     ]
    },
    {
     "name": "stdout",
     "output_type": "stream",
     "text": [
      "('greedy_player', 'random-3x4.txt', 1, True)\n"
     ]
    },
    {
     "name": "stderr",
     "output_type": "stream",
     "text": [
      "\r",
      " 94%|█████████████████████████████████████████████████████████████████████████▌    | 181/192 [1:29:39<11:58, 65.32s/it]"
     ]
    },
    {
     "name": "stdout",
     "output_type": "stream",
     "text": [
      "('greedy_player', 'random-3x4.txt', 1, False)\n"
     ]
    },
    {
     "name": "stderr",
     "output_type": "stream",
     "text": [
      "\r",
      " 95%|█████████████████████████████████████████████████████████████████████████▉    | 182/192 [1:31:09<12:06, 72.70s/it]"
     ]
    },
    {
     "name": "stdout",
     "output_type": "stream",
     "text": [
      "('greedy_player', 'random-3x4.txt', 5, True)\n"
     ]
    },
    {
     "name": "stderr",
     "output_type": "stream",
     "text": [
      "\r",
      " 95%|█████████████████████████████████████████████████████████████████████████▍   | 183/192 [1:38:11<26:37, 177.46s/it]"
     ]
    },
    {
     "name": "stdout",
     "output_type": "stream",
     "text": [
      "('greedy_player', 'random-3x4.txt', 5, False)\n"
     ]
    },
    {
     "name": "stderr",
     "output_type": "stream",
     "text": [
      "\r",
      " 96%|█████████████████████████████████████████████████████████████████████████▊   | 184/192 [1:44:57<32:48, 246.02s/it]"
     ]
    },
    {
     "name": "stdout",
     "output_type": "stream",
     "text": [
      "('greedy_player', 'random-4x4.txt', 0.1, True)\n"
     ]
    },
    {
     "name": "stderr",
     "output_type": "stream",
     "text": [
      "\r",
      " 96%|██████████████████████████████████████████████████████████████████████████▏  | 185/192 [1:44:58<20:06, 172.35s/it]"
     ]
    },
    {
     "name": "stdout",
     "output_type": "stream",
     "text": [
      "('greedy_player', 'random-4x4.txt', 0.1, False)\n"
     ]
    },
    {
     "name": "stderr",
     "output_type": "stream",
     "text": [
      "\r",
      " 97%|██████████████████████████████████████████████████████████████████████████▌  | 186/192 [1:44:58<12:04, 120.73s/it]"
     ]
    },
    {
     "name": "stdout",
     "output_type": "stream",
     "text": [
      "('greedy_player', 'random-4x4.txt', 0.5, True)\n"
     ]
    }
   ],
   "source": [
    "# Continue on\n",
    "testing = \"team41_A2\"\n",
    "df = pd.DataFrame(columns = [\"opponent\", \"board\", \"time\", \"starting\", \"result\", \"reason\"])\n",
    "counter = 0\n",
    "\n",
    "for setup in tqdm(list(itertools.product(opponents, boards, times, starting))):\n",
    "    print(setup)\n",
    "    \n",
    "    if(counter >= 150):\n",
    "        if setup[3]:\n",
    "            winner, reason = run_simulation(testing, setup[0], f'boards//{setup[1]}', setup[2])\n",
    "            result = {0: 0, 1:1, 2:-1}[winner]\n",
    "    \n",
    "        else:\n",
    "            winner, reason = run_simulation(setup[0], testing, f'boards//{setup[1]}', setup[2])\n",
    "            result = {0: 0, 1:-1, 2:1}[winner]\n",
    "    \n",
    "        new_row = pd.DataFrame({\"opponent\":setup[0][:-7], \"board\": setup[1][:-4], \"time\": setup[2], \n",
    "                                \"starting\": setup[3], \"result\": result, \"reason\": reason}, index=[0])\n",
    "\n",
    "        df = pd.concat([df, new_row]).reset_index(drop = True)\n",
    "    \n",
    "    counter += 1\n",
    "    if counter % 10 == 0:\n",
    "        df.to_csv(f'testing results//{testing}.csv', index = False)\n",
    "\n",
    "df.to_csv(f'testing results//{testing}.csv', index = False)"
   ]
  },
  {
   "cell_type": "code",
   "execution_count": null,
   "id": "e67fd396",
   "metadata": {},
   "outputs": [],
   "source": [
    "# Regular\n",
    "testing = \"team41_A2\"\n",
    "df = pd.DataFrame(columns = [\"opponent\", \"board\", \"time\", \"starting\", \"result\", \"reason\"])\n",
    "counter = 0\n",
    "\n",
    "for setup in tqdm(list(itertools.product(opponents, boards, times, starting))):\n",
    "    print(setup)\n",
    "    \n",
    "    if(counter >= 150)\n",
    "    if setup[3]:\n",
    "        winner, reason = run_simulation(testing, setup[0], f'boards//{setup[1]}', setup[2])\n",
    "        result = {0: 0, 1:1, 2:-1}[winner]\n",
    "    \n",
    "    else:\n",
    "        winner, reason = run_simulation(setup[0], testing, f'boards//{setup[1]}', setup[2])\n",
    "        result = {0: 0, 1:-1, 2:1}[winner]\n",
    "    \n",
    "    new_row = pd.DataFrame({\"opponent\":setup[0][:-7], \"board\": setup[1][:-4], \"time\": setup[2], \n",
    "                            \"starting\": setup[3], \"result\": result, \"reason\": reason}, index=[0])\n",
    "    \n",
    "    df = pd.concat([df, new_row]).reset_index(drop = True)\n",
    "    \n",
    "    counter += 1\n",
    "    if counter % 10 == 0:\n",
    "        df.to_csv(f'testing results//{testing}.csv', index = False)\n",
    "\n",
    "df.to_csv(f'testing results//{testing}.csv', index = False)"
   ]
  },
  {
   "cell_type": "code",
   "execution_count": null,
   "id": "df28834a",
   "metadata": {},
   "outputs": [],
   "source": [
    "df = pd.read_csv(\"testing results//team41_A1.csv\")"
   ]
  },
  {
   "cell_type": "code",
   "execution_count": null,
   "id": "a79a14fe",
   "metadata": {},
   "outputs": [],
   "source": [
    "wi = round(len(df[df[\"result\"]==1])/len(df),2)\n",
    "print(f\"Overall Winrate: {wi}\")\n",
    "\n",
    "opx = []\n",
    "opy = []\n",
    "for op in [\"random\", \"greedy\"]:\n",
    "    opx.append(op)\n",
    "    opy.append(round(len(df[(df[\"opponent\"]==op) & (df[\"result\"]==1)])/len(df[df[\"opponent\"]==op]),2))\n",
    "    \n",
    "stx = []\n",
    "sty = []\n",
    "for st in [True, False]:\n",
    "    stx.append({False: \"second\", True: \"starting\"}[st])\n",
    "    sty.append(round(len(df[(df[\"starting\"]==st) & (df[\"result\"]==1)])/len(df[df[\"starting\"]==st]),2))\n",
    "    \n",
    "tix = []\n",
    "tiy = []\n",
    "for ti in [0.1, 0.5, 1, 5]:\n",
    "    tix.append(str(ti))\n",
    "    tiy.append(round(len(df[(df[\"time\"]==ti) & (df[\"result\"]==1)])/len(df[df[\"time\"]==ti]),2))\n",
    "\n",
    "six = []\n",
    "siy = []\n",
    "for si in [\"2x2\", \"2x3\", \"3x3\", \"3x4\", \"4x4\"]:\n",
    "    six.append(si)\n",
    "    siy.append(round(len(df[(df[\"board\"].str.contains(si)) & (df[\"result\"]==1)])/len(df[df[\"board\"].str.contains(si)]),2))"
   ]
  },
  {
   "cell_type": "code",
   "execution_count": null,
   "id": "e987aa5f",
   "metadata": {},
   "outputs": [],
   "source": [
    "fig, axs = plt.subplots(1, 4, sharey = True, figsize=(20,5))\n",
    "fig.suptitle(\"Winrates Among the Different Categories\", fontsize=25)\n",
    "\n",
    "axs[0].bar(opx, opy)\n",
    "axs[0].set_xlabel(\"Player\", fontsize=18)\n",
    "axs[0].set_ylabel(\"Winrate\", fontsize=18)\n",
    "axs[0].tick_params(axis=\"both\", labelsize=14)\n",
    "axs[0].set_ylim(top=0.75)\n",
    "\n",
    "axs[1].bar(stx, sty)\n",
    "axs[1].set_xlabel(\"Placement\", fontsize=18)\n",
    "axs[1].tick_params(axis=\"both\", labelsize=14)\n",
    "\n",
    "axs[2].bar(tix, tiy)\n",
    "axs[2].set_xlabel(\"Time\", fontsize=18)\n",
    "axs[2].tick_params(axis=\"both\", labelsize=14)\n",
    "\n",
    "axs[3].bar(six, siy)\n",
    "axs[3].set_xlabel(\"Boardsize\", fontsize=18)\n",
    "axs[3].tick_params(axis=\"both\", labelsize=14)\n",
    "\n",
    "for i in range(4):\n",
    "    for p in axs[i].patches:\n",
    "        axs[i].annotate(str(p.get_height()), (p.get_x() + 0.25, p.get_height() + 0.01), fontsize=14)\n",
    "\n",
    "plt.savefig(\"testing results//A1_test_result.png\")"
   ]
  }
 ],
 "metadata": {
  "kernelspec": {
   "display_name": "Python 3",
   "language": "python",
   "name": "python3"
  },
  "language_info": {
   "codemirror_mode": {
    "name": "ipython",
    "version": 3
   },
   "file_extension": ".py",
   "mimetype": "text/x-python",
   "name": "python",
   "nbconvert_exporter": "python",
   "pygments_lexer": "ipython3",
   "version": "3.8.8"
  }
 },
 "nbformat": 4,
 "nbformat_minor": 5
}
