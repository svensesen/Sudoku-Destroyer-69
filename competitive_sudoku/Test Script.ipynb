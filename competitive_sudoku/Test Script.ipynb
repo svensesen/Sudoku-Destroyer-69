{
 "cells": [
  {
   "cell_type": "code",
   "execution_count": 12,
   "id": "fe67f765",
   "metadata": {},
   "outputs": [],
   "source": [
    "from simulate_game import simulate_game\n",
    "from competitive_sudoku.sudoku import load_sudoku\n",
    "\n",
    "import importlib\n",
    "import sys\n",
    "import io\n",
    "import os\n",
    "import pandas as pd\n",
    "import matplotlib.pyplot as plt\n",
    "import itertools\n",
    "\n",
    "from tqdm import tqdm"
   ]
  },
  {
   "cell_type": "code",
   "execution_count": null,
   "id": "31802062",
   "metadata": {},
   "outputs": [],
   "source": [
    "# Winner 0 if it was a draw, 1 if player 1 won, 2 if player 2 won\n",
    "# Reason:\n",
    "# \"regular\" if it was played till the end\n",
    "# \"taboo\" if a taboo move was played\n",
    "# \"invalid\" if invalid move was played\n",
    "# \"illegal\" if illegal move was played\n",
    "# \"no move\" if no move was supplied\n",
    "\n",
    "\n",
    "def run_simulation(first_player: str, second_player: str, board_name: str, time: float) -> set:\n",
    "    player1 = importlib.import_module(first_player + '.sudokuai').SudokuAI()\n",
    "    player2 = importlib.import_module(second_player + '.sudokuai').SudokuAI()\n",
    "    player1.player_number = 1\n",
    "    player2.player_number = 2\n",
    "    \n",
    "    # We do not check for specific ai, just give it to all of them\n",
    "    player1.solve_sudoku_path = 'bin\\\\solve_sudoku.exe'\n",
    "    player2.solve_sudoku_path = 'bin\\\\solve_sudoku.exe'\n",
    "    \n",
    "    board = load_sudoku(board_name)\n",
    "    \n",
    "    # Note for future, we do not clean up files\n",
    "    \n",
    "    old_stdout = sys.stdout\n",
    "    sys.stdout = buffer = io.StringIO()\n",
    "    \n",
    "    simulate_game(board, player1, player2, solve_sudoku_path='bin\\\\solve_sudoku.exe', calculation_time=time)\n",
    "    \n",
    "    sys.stdout = old_stdout\n",
    "    result = buffer.getvalue()\n",
    "    \n",
    "    last_line = result.splitlines()[-1]\n",
    "    splitted_line = last_line.split(\".\")\n",
    "    \n",
    "    if len(splitted_line) == 2:\n",
    "        winner = {\"The game ends in a draw\": 0, \"Player 1 wins the game\":1, \n",
    "                  \"Player 2 wins the game\":2}[splitted_line[0]]\n",
    "        reason = \"regular\"\n",
    "    \n",
    "    else:\n",
    "        winner = {\" The game ends in a draw\": 0, \" Player 1 wins the game\":1, \n",
    "                  \" Player 2 wins the game\":2}[splitted_line[1]]\n",
    "        reason = {\"taboo move\": \"taboo\", \"valid move\": \"invalid\", \"legal move\": \"illegal\", \n",
    "                  \"s supplied\": \"no move\"}[splitted_line[0][-10:]]\n",
    "    \n",
    "    return winner, reason"
   ]
  },
  {
   "cell_type": "code",
   "execution_count": null,
   "id": "54b92fd3",
   "metadata": {},
   "outputs": [],
   "source": [
    "opponents = [\"random_player\", \"greedy_player\"]\n",
    "boards = os.listdir(\"boards\")\n",
    "times = [0.1, 0.5, 1, 5]\n",
    "starting = [True, False]"
   ]
  },
  {
   "cell_type": "code",
   "execution_count": null,
   "id": "e67fd396",
   "metadata": {},
   "outputs": [],
   "source": [
    "testing = \"team41_A1\"\n",
    "df = pd.DataFrame(columns = [\"opponent\", \"board\", \"time\", \"starting\", \"result\", \"reason\"])\n",
    "counter = 0\n",
    "\n",
    "for setup in tqdm(list(itertools.product(opponents, boards, times, starting))):\n",
    "    if setup[3]:\n",
    "        winner, reason = run_simulation(testing, setup[0], f'boards//{setup[1]}', setup[2])\n",
    "        result = {0: 0, 1:1, 2:-1}[winner]\n",
    "    \n",
    "    else:\n",
    "        winner, reason = run_simulation(setup[0], testing, f'boards//{setup[1]}', setup[2])\n",
    "        result = {0: 0, 1:-1, 2:1}[winner]\n",
    "    \n",
    "    new_row = pd.DataFrame({\"opponent\":setup[0][:-7], \"board\": setup[1][:-4], \"time\": setup[2], \n",
    "                            \"starting\": setup[3], \"result\": 1, \"reason\": \"regular\"}, index=[0])\n",
    "    \n",
    "    df = pd.concat([df, new_row]).reset_index(drop = True)\n",
    "    \n",
    "    counter += 1\n",
    "    if counter % 10 == 0:\n",
    "        df.to_csv(f'testing results//{testing}.csv', index = False)\n",
    "\n",
    "df.to_csv(f'testing results//{testing}.csv', index = False)"
   ]
  },
  {
   "cell_type": "code",
   "execution_count": null,
   "id": "189a05e9",
   "metadata": {},
   "outputs": [],
   "source": [
    "result = run_simulation(\"team41_A2_testing_Ricc\", \"greedy_player\", \"boards\\\\easy-3x3.txt\", 0.5)\n",
    "print(result)"
   ]
  },
  {
   "cell_type": "code",
   "execution_count": null,
   "id": "382cae60",
   "metadata": {},
   "outputs": [],
   "source": [
    "result = run_simulation(\"random_player\", \"greedy_player\",\"boards\\\\easy-3x3.txt\", 1)\n",
    "print(result)"
   ]
  },
  {
   "cell_type": "code",
   "execution_count": 10,
   "id": "df28834a",
   "metadata": {},
   "outputs": [],
   "source": [
    "df = pd.read_csv(\"testing results//team41_A1.csv\")"
   ]
  },
  {
   "cell_type": "code",
   "execution_count": 157,
   "id": "a79a14fe",
   "metadata": {},
   "outputs": [],
   "source": [
    "opx = []\n",
    "opy = []\n",
    "for op in [\"random\", \"greedy\"]:\n",
    "    opx.append(op)\n",
    "    opy.append(round(len(df[(df[\"opponent\"]==op) & (df[\"result\"]==1)])/len(df),2))\n",
    "    \n",
    "stx = []\n",
    "sty = []\n",
    "for st in [True, False]:\n",
    "    stx.append({False: \"second\", True: \"starting\"}[st])\n",
    "    sty.append(round(len(df[(df[\"starting\"]==st) & (df[\"result\"]==1)])/len(df),2))\n",
    "    \n",
    "tix = []\n",
    "tiy = []\n",
    "for ti in [0.1, 0.5, 1, 5]:\n",
    "    tix.append(str(ti))\n",
    "    tiy.append(round(len(df[(df[\"time\"]==ti) & (df[\"result\"]==1)])/len(df),2))\n",
    "\n",
    "six = []\n",
    "siy = []\n",
    "for si in [\"2x2\", \"2x3\", \"3x3\", \"3x4\", \"4x4\"]:\n",
    "    six.append(si)\n",
    "    siy.append(round(len(df[(df[\"board\"].str.contains(si)) & (df[\"result\"]==1)])/len(df),2))"
   ]
  },
  {
   "cell_type": "code",
   "execution_count": 196,
   "id": "e987aa5f",
   "metadata": {},
   "outputs": [
    {
     "data": {
      "image/png": "[encoded data removed]",
      "text/plain": [
       "<Figure size 1440x360 with 4 Axes>"
      ]
     },
     "metadata": {
      "needs_background": "light"
     },
     "output_type": "display_data"
    }
   ],
   "source": [
    "fig, axs = plt.subplots(1, 4, sharey = True, figsize=(20,5))\n",
    "fig.suptitle(\"Winrates Among the Different Categories\", fontsize=25)\n",
    "\n",
    "axs[0].bar(opx, opy)\n",
    "axs[0].set_xlabel(\"Player\", fontsize=18)\n",
    "axs[0].set_ylabel(\"Winrate\", fontsize=18)\n",
    "axs[0].tick_params(axis=\"both\", labelsize=14)\n",
    "axs[0].set_ylim(top=0.3)\n",
    "\n",
    "axs[1].bar(stx, sty)\n",
    "axs[1].set_xlabel(\"Placement\", fontsize=18)\n",
    "axs[1].tick_params(axis=\"both\", labelsize=14)\n",
    "\n",
    "axs[2].bar(tix, tiy)\n",
    "axs[2].set_xlabel(\"Time\", fontsize=18)\n",
    "axs[2].tick_params(axis=\"both\", labelsize=14)\n",
    "\n",
    "axs[3].bar(six, siy)\n",
    "axs[3].set_xlabel(\"Boardsize\", fontsize=18)\n",
    "axs[3].tick_params(axis=\"both\", labelsize=14)\n",
    "\n",
    "for i in range(4):\n",
    "    for p in axs[i].patches:\n",
    "        axs[i].annotate(str(p.get_height()), (p.get_x() + 0.25, p.get_height() + 0.01), fontsize=14)\n",
    "\n",
    "plt.savefig(\"testing results//A1_test_result.png\")"
   ]
  }
 ],
 "metadata": {
  "kernelspec": {
   "display_name": "Python 3",
   "language": "python",
   "name": "python3"
  },
  "language_info": {
   "codemirror_mode": {
    "name": "ipython",
    "version": 3
   },
   "file_extension": ".py",
   "mimetype": "text/x-python",
   "name": "python",
   "nbconvert_exporter": "python",
   "pygments_lexer": "ipython3",
   "version": "3.8.8"
  }
 },
 "nbformat": 4,
 "nbformat_minor": 5
}
